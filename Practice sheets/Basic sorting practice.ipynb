{
 "cells": [
  {
   "cell_type": "code",
   "execution_count": 8,
   "id": "9e6abb93",
   "metadata": {},
   "outputs": [
    {
     "name": "stdout",
     "output_type": "stream",
     "text": [
      "[2, 4, 5, 6, 8]\n",
      "[8, 6, 5, 4, 2]\n"
     ]
    }
   ],
   "source": [
    "a=[8,4,5,6,2]\n",
    "a.sort()\n",
    "print(a)\n",
    "empty=[]\n",
    "\n",
    "empty=(a[-1::-1])\n",
    "print(empty)"
   ]
  },
  {
   "cell_type": "code",
   "execution_count": 13,
   "id": "071eb725",
   "metadata": {},
   "outputs": [
    {
     "name": "stdout",
     "output_type": "stream",
     "text": [
      "[2, 4, 5, 6, 8]\n",
      "8\n",
      "6\n",
      "5\n",
      "4\n",
      "2\n"
     ]
    }
   ],
   "source": [
    "a=[8,4,5,6,2]\n",
    "a.sort()\n",
    "print(a)\n",
    "empty=[]\n",
    "for i in range(-1,-len(a)-1,-1):\n",
    "    print(a[i])"
   ]
  },
  {
   "cell_type": "code",
   "execution_count": 15,
   "id": "8ee871eb",
   "metadata": {
    "scrolled": true
   },
   "outputs": [
    {
     "name": "stdout",
     "output_type": "stream",
     "text": [
      "[2, 4, 5, 6, 8]\n",
      "8\n",
      "6\n",
      "5\n",
      "4\n",
      "2\n"
     ]
    }
   ],
   "source": [
    "a=[8,4,5,6,2]\n",
    "a.sort()\n",
    "print(a)\n",
    "empty=[]\n",
    "for i in range(len(a)-1,-1,-1):\n",
    "    print(a[i])"
   ]
  },
  {
   "cell_type": "code",
   "execution_count": 19,
   "id": "3b609a5b",
   "metadata": {},
   "outputs": [
    {
     "name": "stdout",
     "output_type": "stream",
     "text": [
      "[1, 4, 8, 9, 11]\n"
     ]
    }
   ],
   "source": [
    "a=[8,4,9,11,1]\n",
    "\n",
    "for i in range(len(a)-1):\n",
    "    for j in range(i+1,len(a)):\n",
    "        if a[i]>a[j]:\n",
    "            temp=a[i] #8\n",
    "            a[i]=a[j] #8=4\n",
    "            a[j]=temp #8\n",
    "print(a)"
   ]
  },
  {
   "cell_type": "markdown",
   "id": "d0512490",
   "metadata": {},
   "source": [
    "**SORT FROM WEEK 11**"
   ]
  },
  {
   "cell_type": "code",
   "execution_count": 26,
   "id": "a39d14f2",
   "metadata": {},
   "outputs": [
    {
     "name": "stdout",
     "output_type": "stream",
     "text": [
      "[-3, 1, 4, 8, 8, 9, 11, 14]\n"
     ]
    }
   ],
   "source": [
    "#selection sort\n",
    "aye=[8,4,9,11,1,14,-3,8]\n",
    "for i in range(len(aye)):\n",
    "    min=aye[i]\n",
    "    min_index=i\n",
    "    for j in range(i+1,len(aye)):\n",
    "        if aye[j]<min:\n",
    "            min=aye[j]\n",
    "            min_index=j\n",
    "    aye[i],aye[min_index]=min,aye[i]\n",
    "print(aye)"
   ]
  },
  {
   "cell_type": "code",
   "execution_count": 48,
   "id": "dccdff12",
   "metadata": {},
   "outputs": [
    {
     "name": "stdout",
     "output_type": "stream",
     "text": [
      "[-3, 1, 4, 8, 8, 9, 11, 14]\n"
     ]
    }
   ],
   "source": [
    "#bubble\n",
    "array=[8,4,9,11,1,14,8,-3]#1,-3,4,8,8,9,11,14\n",
    "for i in range(1,len(array)): #6             \n",
    "    for j in range(len(array)-1):#0\n",
    "        if array[j]>array[j+1]: \n",
    "            array[j],array[j+1]=array[j+1],array[j] \n",
    "print(array)"
   ]
  }
 ],
 "metadata": {
  "kernelspec": {
   "display_name": "Python 3",
   "language": "python",
   "name": "python3"
  },
  "language_info": {
   "codemirror_mode": {
    "name": "ipython",
    "version": 3
   },
   "file_extension": ".py",
   "mimetype": "text/x-python",
   "name": "python",
   "nbconvert_exporter": "python",
   "pygments_lexer": "ipython3",
   "version": "3.8.8"
  }
 },
 "nbformat": 4,
 "nbformat_minor": 5
}
