{
 "cells": [
  {
   "cell_type": "code",
   "execution_count": 3,
   "id": "5f723c32",
   "metadata": {},
   "outputs": [
    {
     "name": "stdout",
     "output_type": "stream",
     "text": [
      "123456"
     ]
    }
   ],
   "source": [
    "#1\n",
    "n=6\n",
    "num=1\n",
    "for i in range(n):\n",
    "    print(num,end=\"\")\n",
    "    num+=1"
   ]
  },
  {
   "cell_type": "code",
   "execution_count": 5,
   "id": "2eca5909",
   "metadata": {},
   "outputs": [
    {
     "name": "stdout",
     "output_type": "stream",
     "text": [
      "******"
     ]
    }
   ],
   "source": [
    "#2\n",
    "n=6\n",
    "for i in range(n):\n",
    "    print(\"*\",end=\"\")\n"
   ]
  },
  {
   "cell_type": "markdown",
   "id": "520e2f79",
   "metadata": {},
   "source": [
    "PROBLEM 3) Rectangle\n",
    "Sample input:\n",
    "4\n",
    "6\n",
    "Sample output\n",
    "******\n",
    "******\n",
    "******\n",
    "******\n",
    "\n",
    "Hint: 4 and 6 means 4 lines of stars having 6 stars in each line."
   ]
  },
  {
   "cell_type": "code",
   "execution_count": 12,
   "id": "7001dc2b",
   "metadata": {},
   "outputs": [
    {
     "name": "stdout",
     "output_type": "stream",
     "text": [
      "******\n",
      "******\n",
      "******\n",
      "******\n"
     ]
    }
   ],
   "source": [
    "l=4\n",
    "c=6\n",
    "for line in range(l):\n",
    "    for star in range(c):\n",
    "        print(\"*\",end=\"\")\n",
    "    print()"
   ]
  },
  {
   "cell_type": "markdown",
   "id": "c122882b",
   "metadata": {},
   "source": [
    "PROBLEM 4) Rectangle\n",
    "Sample input:\n",
    "4\n",
    "6\n",
    "Sample output\n",
    "123456\n",
    "123456\n",
    "123456\n",
    "123456\n",
    "Hint: 4 and 6 means 4 lines of numbers having 1..6 in each line."
   ]
  },
  {
   "cell_type": "code",
   "execution_count": 2,
   "id": "c988e0ac",
   "metadata": {},
   "outputs": [
    {
     "name": "stdout",
     "output_type": "stream",
     "text": [
      "123456\n",
      "123456\n",
      "123456\n",
      "123456\n"
     ]
    }
   ],
   "source": [
    "l=4\n",
    "c=6\n",
    "\n",
    "for line in range(l):\n",
    "    num=1\n",
    "    for star in range(c):\n",
    "        print(num,end=\"\")\n",
    "        num+=1\n",
    "    print()"
   ]
  },
  {
   "cell_type": "markdown",
   "id": "da66b6a7",
   "metadata": {},
   "source": [
    "PROBLEM 5) Triangle - Left Justified\n",
    "Draw right angled triangle of given height\n",
    "Sample input:\n",
    "4\n",
    "Sample output\n",
    "*\n",
    "**\n",
    "***\n",
    "****\n",
    "Hint: One loop for lines, another loop for printing i number of starts when it is line i."
   ]
  },
  {
   "cell_type": "code",
   "execution_count": 14,
   "id": "71ec5ef2",
   "metadata": {},
   "outputs": [
    {
     "name": "stdout",
     "output_type": "stream",
     "text": [
      "*\n",
      "**\n",
      "***\n",
      "****\n"
     ]
    }
   ],
   "source": [
    "#5\n",
    "n=4\n",
    "star=\"*\"\n",
    "for i in range(n):\n",
    "    print(star)\n",
    "    star+=\"*\"\n",
    "    "
   ]
  },
  {
   "cell_type": "markdown",
   "id": "57d388b6",
   "metadata": {},
   "source": [
    "PROBLEM 6) Triangle - Left Justified\n",
    "Draw right angled triangle of given height\n",
    "Sample input:\n",
    "4\n",
    "Sample output\n",
    "1\n",
    "12\n",
    "123\n",
    "1234"
   ]
  },
  {
   "cell_type": "code",
   "execution_count": 2,
   "id": "8f8003a7",
   "metadata": {},
   "outputs": [
    {
     "name": "stdout",
     "output_type": "stream",
     "text": [
      "1\n",
      "12\n",
      "123\n",
      "1234\n"
     ]
    }
   ],
   "source": [
    "#6\n",
    "n=4                             \n",
    "for i in range(n):#i=0,1,2,3\n",
    "    num=1         #1,2,3,4\n",
    "    for j in range(i+1): #1,2,3,4\n",
    "        print(num,end=\"\")#1,\n",
    "        num+=1  #2  \n",
    "    print()       "
   ]
  },
  {
   "cell_type": "code",
   "execution_count": 4,
   "id": "70b0feff",
   "metadata": {},
   "outputs": [
    {
     "name": "stdout",
     "output_type": "stream",
     "text": [
      "1\n",
      "12\n",
      "123\n",
      "1234\n"
     ]
    }
   ],
   "source": [
    "#6\n",
    "n=4                              \n",
    "for i in range(1,n+1):#i=0,1,2,3\n",
    "    num=1         #1,2,3,4\n",
    "    for j in range(1,i+1): #1,2,3,4\n",
    "        print(j,end=\"\")#1,\n",
    "        num+=1  #2  \n",
    "    print()       "
   ]
  },
  {
   "cell_type": "markdown",
   "id": "d0350839",
   "metadata": {},
   "source": [
    "PROBLEM 7) Triangle - Right Justified\n",
    "Draw right angled triangle of given height\n",
    "Sample input:\n",
    "4\n",
    "Sample output\n",
    "   *\n",
    "  **\n",
    " ***\n",
    "****\n",
    "Hint: Count and print appropriate number of spaces in front of stars. Notice that there\n",
    "is one less space and one more star in each line."
   ]
  },
  {
   "cell_type": "code",
   "execution_count": 15,
   "id": "864573bc",
   "metadata": {},
   "outputs": [
    {
     "name": "stdout",
     "output_type": "stream",
     "text": [
      "   *\n",
      "  **\n",
      " ***\n",
      "****\n"
     ]
    }
   ],
   "source": [
    "#7\n",
    "n=4\n",
    "count=n-1\n",
    "for i in range(n):\n",
    "        for s in range(count):\n",
    "            print(end=\" \")\n",
    "        count=count-1\n",
    "        for j in range(i+1):\n",
    "            print(\"*\",end=\"\")\n",
    "        print()"
   ]
  },
  {
   "cell_type": "markdown",
   "id": "96a1c422",
   "metadata": {},
   "source": [
    "PROBLEM 8) Triangle - Right Justified\n",
    "Draw right angled triangle of given height\n",
    "Sample input:\n",
    "4\n",
    "Sample output\n",
    "   1\n",
    "  12\n",
    " 123\n",
    "1234"
   ]
  },
  {
   "cell_type": "code",
   "execution_count": 20,
   "id": "d917c764",
   "metadata": {},
   "outputs": [
    {
     "name": "stdout",
     "output_type": "stream",
     "text": [
      "   1\n",
      "  12\n",
      " 123\n",
      "1234\n"
     ]
    }
   ],
   "source": [
    "#8\n",
    "n=4\n",
    "space=n-1\n",
    "\n",
    "for i in range(n):\n",
    "    for s in range(space):\n",
    "        print(\" \",end=\"\")\n",
    "    space=space-1\n",
    "    num=1                    \n",
    "    for j in range(i+1):\n",
    "        print(num,end=\"\")\n",
    "        num+=1\n",
    "    print()"
   ]
  },
  {
   "cell_type": "markdown",
   "id": "95ec5b8e",
   "metadata": {},
   "source": [
    "PROBLEM 9) Triangle - Isosceles\n",
    "Draw triangle of given height\n",
    "Sample input 1:\n",
    "3\n",
    "Sample output 1:\n",
    "  *\n",
    " ***\n",
    "*****\n",
    "Sample input 2:\n",
    "4\n",
    "Sample output 2:\n",
    "   *\n",
    "  ***\n",
    " *****\n",
    "*******"
   ]
  },
  {
   "cell_type": "code",
   "execution_count": 6,
   "id": "844a387d",
   "metadata": {},
   "outputs": [
    {
     "name": "stdout",
     "output_type": "stream",
     "text": [
      "   *\n",
      "  ***\n",
      " *****\n",
      "*******\n"
     ]
    }
   ],
   "source": [
    "#9\n",
    "n=4\n",
    "s=n-1\n",
    "star=\"*\"\n",
    "for i in range(n):\n",
    "    for j in range(s):\n",
    "        print(end=\" \")\n",
    "    s=s-1\n",
    "    print(star,end=\"\")\n",
    "    star+=\"**\"\n",
    "    print()"
   ]
  },
  {
   "cell_type": "markdown",
   "id": "53c34746",
   "metadata": {},
   "source": [
    "PROBLEM 10) Triangle - Isosceles\n",
    "Draw triangle of given height\n",
    "Sample input 1:\n",
    "3\n",
    "Sample output 1:\n",
    "  1\n",
    " 123\n",
    "12345\n",
    "Sample input 2:\n",
    "4\n",
    "Sample output 2:\n",
    "   1\n",
    "  123\n",
    " 12345\n",
    "1234567"
   ]
  },
  {
   "cell_type": "code",
   "execution_count": 28,
   "id": "831e78a8",
   "metadata": {},
   "outputs": [
    {
     "name": "stdout",
     "output_type": "stream",
     "text": [
      "   1\n",
      "  123\n",
      " 12345\n",
      "1234567\n"
     ]
    }
   ],
   "source": [
    "n=4\n",
    "t=1\n",
    "space=n-1\n",
    "for i in range(n):\n",
    "    for j in range(space):\n",
    "        print(end=\" \")\n",
    "    space-=1\n",
    "    for k in range(1,t+1):\n",
    "        print(k,end=\"\")\n",
    "    t+=2\n",
    "    print()"
   ]
  },
  {
   "cell_type": "markdown",
   "id": "c52ecd7d",
   "metadata": {},
   "source": [
    "PROBLEM 11) Triangle - Right Justified\n",
    "Draw right angled triangle of given height\n",
    "Sample input:\n",
    "4\n",
    "Sample output\n",
    "   4\n",
    "  34\n",
    " 234\n",
    "1234"
   ]
  },
  {
   "cell_type": "code",
   "execution_count": 4,
   "id": "c4004be3",
   "metadata": {
    "scrolled": false
   },
   "outputs": [
    {
     "name": "stdout",
     "output_type": "stream",
     "text": [
      "   4\n",
      "  34\n",
      " 234\n",
      "1234\n"
     ]
    }
   ],
   "source": [
    "n=4\n",
    "space=n-1\n",
    "                                          #baki\n",
    "\n",
    "for i in range(n):\n",
    "    x=1\n",
    "    for j in range(space):\n",
    "        print(end=\" \")\n",
    "        x+=1\n",
    "    space-=1\n",
    "    \n",
    "    for k in range(i+1):\n",
    "        \n",
    "        print(x,end=\"\")\n",
    "        x+=1                  \n",
    "    \n",
    "    print()    "
   ]
  },
  {
   "cell_type": "markdown",
   "id": "30cb3fae",
   "metadata": {},
   "source": [
    "PROBLEM 12) Rhombus\n",
    "Just draw the image of the above triangle once. And then, the opposite, once.\n",
    "Sample input:\n",
    "3\n",
    "Sample output\n",
    "  *\n",
    " ***\n",
    "*****\n",
    " ***\n",
    "  *"
   ]
  },
  {
   "cell_type": "code",
   "execution_count": 15,
   "id": "839e1375",
   "metadata": {},
   "outputs": [
    {
     "name": "stdout",
     "output_type": "stream",
     "text": [
      "       *\n",
      "      ***\n",
      "     *****\n",
      "    *******\n",
      "   *********\n",
      "  ***********\n",
      " *************\n",
      "***************\n",
      " *************\n",
      "  ***********\n",
      "   *********\n",
      "    *******\n",
      "     *****\n",
      "      ***\n",
      "       *\n"
     ]
    }
   ],
   "source": [
    "n=8\n",
    "c=n\n",
    "space=n-1\n",
    "for row in range(1,n*2):\n",
    "    for colum in range(1,c+1):\n",
    "        if colum<=space:\n",
    "            print(\" \",end=\"\")\n",
    "        else:\n",
    "            print(\"*\",end=\"\")\n",
    "    \n",
    "    if row <n:\n",
    "        c+=1\n",
    "        space-=1\n",
    "    else:\n",
    "        c-=1\n",
    "        space+=1\n",
    "    \n",
    "    print()\n",
    "            "
   ]
  },
  {
   "cell_type": "markdown",
   "id": "63da7286",
   "metadata": {},
   "source": [
    "PROBLEM 13) Rhombus\n",
    "Just draw the image of the above triangle once. And then, the opposite, once.\n",
    "Sample input:\n",
    "3\n",
    "Sample output\n",
    "  1\n",
    " 123\n",
    "12345\n",
    " 123\n",
    "  1"
   ]
  },
  {
   "cell_type": "code",
   "execution_count": 22,
   "id": "6048b568",
   "metadata": {},
   "outputs": [
    {
     "name": "stdout",
     "output_type": "stream",
     "text": [
      "    1\n",
      "   123\n",
      "  12345\n",
      " 1234567\n",
      "123456789\n",
      " 1234567\n",
      "  12345\n",
      "   123\n",
      "    1\n"
     ]
    }
   ],
   "source": [
    "n=5\n",
    "c=n  #3\n",
    "space=n-1   #1\n",
    "for row in range(1,n*2):\n",
    "    num=1\n",
    "    for colum in range(1,c+1):\n",
    "        if colum<=space:\n",
    "            print(\" \",end=\"\")\n",
    "        else:\n",
    "            print(num,end=\"\")\n",
    "            num+=1\n",
    "    print()\n",
    "    if row<n:\n",
    "        c+=1\n",
    "        space-=1\n",
    "    else:\n",
    "        c-=1\n",
    "        space+=1\n",
    "        "
   ]
  },
  {
   "cell_type": "markdown",
   "id": "d2b4f278",
   "metadata": {},
   "source": [
    "PROBLEM 14) Hollow Rectangle\n",
    "Display a rectangle of given length and width.\n",
    "Sample input:\n",
    "4\n",
    "5\n",
    "Sample output\n",
    "*****\n",
    "*   *\n",
    "*   *\n",
    "*****\n",
    "Hint 1: Print the character space (‘ ‘) in the middle.\n",
    "Hint 2: You can re-use your solution to PROBLEM 2 and use if condition to selectively print first and last star of\n",
    "each line and all stars of first and last line."
   ]
  },
  {
   "cell_type": "code",
   "execution_count": 72,
   "id": "d0a63d39",
   "metadata": {
    "scrolled": true
   },
   "outputs": [
    {
     "name": "stdout",
     "output_type": "stream",
     "text": [
      "*********\n",
      "*       *\n",
      "*       *\n",
      "*       *\n",
      "*********\n"
     ]
    }
   ],
   "source": [
    "l=5\n",
    "w=9\n",
    "for row in range(1,l+1):\n",
    "    for colum in range(1,w+1):\n",
    "        if row==1 or row==l:\n",
    "            print(\"*\",end=\"\")\n",
    "            \n",
    "        else:\n",
    "            if colum==1 or colum==w:\n",
    "                print(\"*\",end=\"\")\n",
    "            else:\n",
    "                print(\" \",end='')\n",
    "    print()"
   ]
  },
  {
   "cell_type": "markdown",
   "id": "63fca37e",
   "metadata": {},
   "source": [
    "PROBLEM 15) Hollow Rectangle\n",
    "Display a rectangle of given length and width.\n",
    "Sample input:\n",
    "4\n",
    "5\n",
    "Sample output\n",
    "12345\n",
    "1   5\n",
    "1   5\n",
    "12345"
   ]
  },
  {
   "cell_type": "code",
   "execution_count": 73,
   "id": "c83bf298",
   "metadata": {},
   "outputs": [
    {
     "name": "stdout",
     "output_type": "stream",
     "text": [
      "12345\n",
      "1   5\n",
      "1   5\n",
      "12345\n"
     ]
    }
   ],
   "source": [
    "l=4\n",
    "w=5\n",
    "for row in range(1,l+1):\n",
    "    num=1\n",
    "    for colum in range(1,w+1):\n",
    "        if row==1 or row==l:\n",
    "            print(num,end=\"\")\n",
    "            num+=1\n",
    "        else:\n",
    "            if colum==1 or colum==w:\n",
    "                print(num,end=\"\")\n",
    "                num+=1\n",
    "            else:\n",
    "                print(\" \",end=\"\")\n",
    "                num+=1\n",
    "    print()"
   ]
  },
  {
   "cell_type": "markdown",
   "id": "ca1f9fde",
   "metadata": {},
   "source": [
    "PROBLEM 16) Hollow Triangle - Left Justified\n",
    "Draw right angled triangle of given height\n",
    "Sample input:\n",
    "5\n",
    "Sample output\n",
    "*\n",
    "**\n",
    "* *\n",
    "*  *\n",
    "*****\n"
   ]
  },
  {
   "cell_type": "code",
   "execution_count": 88,
   "id": "d816fd06",
   "metadata": {},
   "outputs": [
    {
     "name": "stdout",
     "output_type": "stream",
     "text": [
      "*\n",
      "**\n",
      "* *\n",
      "*  *\n",
      "*   *\n",
      "*    *\n",
      "*     *\n",
      "*      *\n",
      "*       *\n",
      "*        *\n",
      "*         *\n",
      "*          *\n",
      "*           *\n",
      "**************\n"
     ]
    }
   ],
   "source": [
    "h=14\n",
    "c=1\n",
    "for row in range(1,h+1):   #1\n",
    "    for colum in range(1,c+1): #1\n",
    "        if row==h or row<3:\n",
    "            print(\"*\",end=\"\")\n",
    "        \n",
    "        else: #3\n",
    "            if colum==1 or colum==c:\n",
    "                print(\"*\",end=\"\")\n",
    "            else:\n",
    "                print(\" \",end=\"\")\n",
    "        \n",
    "    c+=1\n",
    "    print()"
   ]
  },
  {
   "cell_type": "markdown",
   "id": "4d6bc4df",
   "metadata": {},
   "source": [
    "PROBLEM 17) Hollow Triangle - Left Justified\n",
    "Draw right angled triangle of given height\n",
    "Sample input:\n",
    "5\n",
    "Sample output\n",
    "1\n",
    "12\n",
    "1 3\n",
    "1  4\n",
    "12345"
   ]
  },
  {
   "cell_type": "code",
   "execution_count": 99,
   "id": "28aa09b5",
   "metadata": {},
   "outputs": [
    {
     "name": "stdout",
     "output_type": "stream",
     "text": [
      "1\n",
      "12\n",
      "1 3\n",
      "1  4\n",
      "12345\n"
     ]
    }
   ],
   "source": [
    "h=5\n",
    "c=1\n",
    "for row in range(1,h+1):\n",
    "    num=1\n",
    "    for colum in range(1,c+1):\n",
    "        if row<3 or row==h:\n",
    "            print(num,end=\"\")\n",
    "            num+=1\n",
    "        else:\n",
    "            if colum==1 or colum==c:\n",
    "                print(num,end=\"\")\n",
    "                num+=1\n",
    "            else:\n",
    "                print(\" \",end=\"\")\n",
    "                num+=1\n",
    "    print()\n",
    "    c+=1"
   ]
  },
  {
   "cell_type": "markdown",
   "id": "7e177144",
   "metadata": {},
   "source": [
    "PROBLEM 18) Hollow Triangle\n",
    "Draw right angled triangle of given height\n",
    "Sample input:\n",
    "5\n",
    "Sample output\n",
    "    *\n",
    "   **\n",
    "  * *\n",
    " *  *\n",
    "*****"
   ]
  },
  {
   "cell_type": "code",
   "execution_count": 25,
   "id": "7bb5d9c8",
   "metadata": {},
   "outputs": [
    {
     "name": "stdout",
     "output_type": "stream",
     "text": [
      "    *\n",
      "   **\n",
      "  * *\n",
      " *  *\n",
      "*****\n"
     ]
    }
   ],
   "source": [
    "h=5\n",
    "c=h-1\n",
    "x=1\n",
    "for row in range(1,h+1):\n",
    "    for colum in range(1,h-row+1):\n",
    "        print(\" \",end=\"\")\n",
    "    \n",
    "    for colum in range(1,row+1):\n",
    "        if row==1 or row==2 or row==h:\n",
    "            print(\"*\",end=\"\")\n",
    "        else:\n",
    "            if colum==1 or colum==row:\n",
    "                print(\"*\",end=\"\")\n",
    "            else:\n",
    "                print(\" \",end=\"\")\n",
    "            \n",
    "            \n",
    "    \n",
    "    x+=1\n",
    "    c-=1\n",
    "    print()"
   ]
  },
  {
   "cell_type": "markdown",
   "id": "b35568b7",
   "metadata": {},
   "source": [
    "PROBLEM 19) Hollow Triangle - Right Justified\n",
    "Draw right angled triangle of given height\n",
    "Sample input:\n",
    "5\n",
    "Sample output\n",
    "    5\n",
    "   45\n",
    "  3 5\n",
    " 2  5\n",
    "12345"
   ]
  },
  {
   "cell_type": "code",
   "execution_count": 33,
   "id": "fe579002",
   "metadata": {},
   "outputs": [
    {
     "name": "stdout",
     "output_type": "stream",
     "text": [
      "****5\n",
      "***45\n",
      "**3 5\n",
      "*2  5\n",
      "12345\n"
     ]
    }
   ],
   "source": [
    "n=5\n",
    "c=n-1\n",
    "x=1\n",
    "for row in range(1,n+1):\n",
    "    num=1\n",
    "    for colum in range(1,c+1):\n",
    "        print(\"*\",end=\"\")\n",
    "        num+=1\n",
    "    for colum in range(1,x+1):\n",
    "        if row==1 or row==2 or row==n:\n",
    "            print(num,end=\"\")\n",
    "            num+=1\n",
    "        else:\n",
    "            if colum==1 or colum==x:\n",
    "                print(num,end=\"\")\n",
    "                num+=1\n",
    "            else:\n",
    "                print(\" \",end=\"\")\n",
    "                num+=1\n",
    "    x+=1\n",
    "    print()    \n",
    "    c-=1\n",
    "    "
   ]
  },
  {
   "cell_type": "markdown",
   "id": "ad0b024a",
   "metadata": {},
   "source": [
    "PROBLEM 20) Hollow Triangle\n",
    "Draw triangle of given height\n",
    "Sample input 1:\n",
    "3\n",
    "Sample output 1:\n",
    "  *\n",
    " * *\n",
    "*****\n",
    "Sample input 2:\n",
    "4\n",
    "Sample output 2:\n",
    "   *\n",
    "  * *\n",
    " *   *\n",
    "*******"
   ]
  },
  {
   "cell_type": "code",
   "execution_count": 49,
   "id": "299f7cb5",
   "metadata": {},
   "outputs": [
    {
     "name": "stdout",
     "output_type": "stream",
     "text": [
      "   *\n",
      "  * *\n",
      " *   *\n",
      "*******\n"
     ]
    }
   ],
   "source": [
    "h=4\n",
    "c=h-1\n",
    "x=1\n",
    "for row in range(1,h+1):\n",
    "    \n",
    "    for colum in range(1,c+1):\n",
    "        print(\" \",end=\"\")\n",
    "    if row!=h:\n",
    "        \n",
    "        for colum in range(1,x+1):\n",
    "            if colum==1 or colum==x:\n",
    "                print(\"*\",end=\"\")\n",
    "            else:\n",
    "                print(\" \",end=\"\")\n",
    "    else:\n",
    "        for colum in range(1,x+1):\n",
    "            \n",
    "            print(\"*\",end=\"\")\n",
    "        \n",
    "    \n",
    "    print()\n",
    "    c-=1\n",
    "    x+=2"
   ]
  },
  {
   "cell_type": "markdown",
   "id": "91fa3098",
   "metadata": {},
   "source": [
    "PROBLEM 21) Hollow Triangle – Isosceles\n",
    "Draw triangle of given height\n",
    "Sample input 1:\n",
    "3\n",
    "Sample output 1:\n",
    "  1\n",
    " 1 3\n",
    "12345\n",
    "Sample input 2:\n",
    "4\n",
    "Sample output 2:\n",
    "   1\n",
    "  1 3\n",
    " 1   5\n",
    "1234567"
   ]
  },
  {
   "cell_type": "code",
   "execution_count": 4,
   "id": "02e886d7",
   "metadata": {},
   "outputs": [
    {
     "name": "stdout",
     "output_type": "stream",
     "text": [
      "   1\n",
      "  1 3\n",
      " 1   5\n",
      "1234567\n"
     ]
    }
   ],
   "source": [
    "h=4\n",
    "c=h-1\n",
    "x=1\n",
    "for row in range(1,h+1):\n",
    "    num=1\n",
    "    for colum in range(1,c+1):\n",
    "        print(\" \",end=\"\")\n",
    "    for colum in range(1,x+1):\n",
    "        if row==1 or row==h:\n",
    "            print(num,end=\"\")\n",
    "            num+=1\n",
    "        else:\n",
    "            if colum==1 or colum==x:\n",
    "                print(num,end=\"\")\n",
    "                num+=1\n",
    "            else:\n",
    "                print(\" \",end=\"\")\n",
    "                num+=1\n",
    "        \n",
    "    print()\n",
    "    c-=1\n",
    "    x+=2"
   ]
  },
  {
   "cell_type": "markdown",
   "id": "605b1981",
   "metadata": {},
   "source": [
    "PROBLEM 22) Hollow Rhombus\n",
    "Just draw the image of the above triangle once. And then, the opposite, once.\n",
    "Sample input:\n",
    "3\n",
    "Sample output\n",
    "  *\n",
    " * *\n",
    "*   *\n",
    " * *\n",
    "  *"
   ]
  },
  {
   "cell_type": "code",
   "execution_count": 36,
   "id": "b56d1440",
   "metadata": {},
   "outputs": [
    {
     "name": "stdout",
     "output_type": "stream",
     "text": [
      "      *\n",
      "     * *\n",
      "    *   *\n",
      "   *     *\n",
      "  *       *\n",
      " *         *\n",
      "*           *\n",
      " *         *\n",
      "  *       *\n",
      "   *     *\n",
      "    *   *\n",
      "     * *\n",
      "      *\n"
     ]
    }
   ],
   "source": [
    "n=7\n",
    "c=n-1\n",
    "x=1\n",
    "s=1\n",
    "p=n*2-3\n",
    "for row in range(1,n*2):\n",
    "    if row<=n:\n",
    "        for colum in range(1,c+1):\n",
    "            print(\" \",end=\"\")\n",
    "        for colum in range(1,x+1):\n",
    "            if colum==1 or colum==x:\n",
    "                print(\"*\",end=\"\")\n",
    "            else:\n",
    "                print(\" \",end=\"\")\n",
    "        \n",
    "        print()\n",
    "        c-=1\n",
    "        x+=2\n",
    "    else:\n",
    "        for colum in range(1,s+1):\n",
    "            print(\" \",end=\"\")\n",
    "        for colum in range(1,p+1):\n",
    "            if colum==1 or colum==p:\n",
    "                print(\"*\",end=\"\")\n",
    "            else:\n",
    "                print(\" \",end=\"\")\n",
    "        \n",
    "        \n",
    "        print()\n",
    "        s+=1 \n",
    "        p-=2"
   ]
  },
  {
   "cell_type": "markdown",
   "id": "b68c7a12",
   "metadata": {},
   "source": [
    "PROBLEM 24) Palindrome\n",
    "Sample input:\n",
    "5\n",
    "Sample output\n",
    "123454321"
   ]
  },
  {
   "cell_type": "code",
   "execution_count": 8,
   "id": "c5674aa7",
   "metadata": {
    "scrolled": true
   },
   "outputs": [
    {
     "name": "stdout",
     "output_type": "stream",
     "text": [
      "12345654321"
     ]
    }
   ],
   "source": [
    "n=6\n",
    "for i in range(1,n+1):\n",
    "    print(i,end=\"\")\n",
    "for e in range((n-1),0,-1):\n",
    "    print(e,end=\"\")"
   ]
  },
  {
   "cell_type": "markdown",
   "id": "180283e8",
   "metadata": {},
   "source": [
    "PROBLEM 25) Palindromic Triangle\n",
    "Sample input:\n",
    "5\n",
    "Sample output\n",
    "    1\n",
    "   121\n",
    "  12321\n",
    " 1234321\n",
    "123454321"
   ]
  },
  {
   "cell_type": "code",
   "execution_count": 2,
   "id": "817959b3",
   "metadata": {},
   "outputs": [
    {
     "name": "stdout",
     "output_type": "stream",
     "text": [
      "    1\n",
      "   121\n",
      "  12321\n",
      " 1234321\n",
      "123454321\n"
     ]
    }
   ],
   "source": [
    "n=5\n",
    "p=n-1\n",
    "for row in range(1,n+1):\n",
    "    for s in range(p,0,-1):\n",
    "        print(\" \",end=\"\")\n",
    "    for t in range(1,row+1):\n",
    "        print(t,end=\"\")\n",
    "    for y in range(row-1,0,-1):\n",
    "        print(y,end=\"\")\n",
    "    p-=1\n",
    "    print()"
   ]
  }
 ],
 "metadata": {
  "kernelspec": {
   "display_name": "Python 3",
   "language": "python",
   "name": "python3"
  },
  "language_info": {
   "codemirror_mode": {
    "name": "ipython",
    "version": 3
   },
   "file_extension": ".py",
   "mimetype": "text/x-python",
   "name": "python",
   "nbconvert_exporter": "python",
   "pygments_lexer": "ipython3",
   "version": "3.8.8"
  }
 },
 "nbformat": 4,
 "nbformat_minor": 5
}
