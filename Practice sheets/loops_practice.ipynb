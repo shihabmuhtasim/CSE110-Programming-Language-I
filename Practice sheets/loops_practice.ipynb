{
 "cells": [
  {
   "cell_type": "code",
   "execution_count": null,
   "metadata": {
    "colab": {
     "base_uri": "https://localhost:8080/"
    },
    "id": "vjUlm0Ply6c0",
    "outputId": "4c230b8c-bf69-4acd-c2e0-ec543e79d8ae"
   },
   "outputs": [
    {
     "name": "stdout",
     "output_type": "stream",
     "text": [
      "Celcius60\n",
      "Fer45\n",
      "140.0\n",
      "7.0\n"
     ]
    }
   ],
   "source": [
    "cel=float(input(\"Celcius\"))\n",
    "fer=float(input(\"Fer\"))\n",
    "f=((9*cel)/5)+32\n",
    "c=((5*fer)-160)//9\n",
    "print(f)\n",
    "print(c)"
   ]
  },
  {
   "cell_type": "code",
   "execution_count": null,
   "metadata": {
    "colab": {
     "base_uri": "https://localhost:8080/"
    },
    "id": "Y4QCw6swSRD8",
    "outputId": "d9caa722-1280-49a9-96df-2ee7a5e300b0"
   },
   "outputs": [
    {
     "name": "stdout",
     "output_type": "stream",
     "text": [
      "**** \n",
      "*   *\n",
      "*   *\n",
      "*   *\n",
      "*   *\n",
      "*   *\n",
      "**** \n"
     ]
    }
   ],
   "source": [
    "for row in range(7):\n",
    " for col in range(5):\n",
    "   if (col==0) or (col==4 and (row!=0 and row!=6)) or ((row==0 or row==6) and (col>0 and col<4)):\n",
    "     print('*',end='')\n",
    "   else:\n",
    "     print(end=' ')  \n",
    " print()\n",
    "\n",
    "\n"
   ]
  },
  {
   "cell_type": "code",
   "execution_count": null,
   "metadata": {
    "colab": {
     "base_uri": "https://localhost:8080/"
    },
    "id": "bP6vNfbeSxxH",
    "outputId": "9b1991ab-0592-4ddf-beaf-35b10d856abb"
   },
   "outputs": [
    {
     "name": "stdout",
     "output_type": "stream",
     "text": [
      "*****\n",
      "*   *\n",
      "*   *\n",
      "*****\n",
      "*   *\n",
      "*   *\n",
      "*****\n"
     ]
    }
   ],
   "source": [
    "for row in range(7):\n",
    "  for col in range(5):\n",
    "    if (col==0 or col==4) or ((row==0 or row==3 or row==6) and (col>0 and col<4)):\n",
    "      print(\"*\",end='')\n",
    "    else:\n",
    "      print(end=\" \")\n",
    "  print()\n",
    "\n",
    "\n"
   ]
  },
  {
   "cell_type": "code",
   "execution_count": null,
   "metadata": {
    "colab": {
     "base_uri": "https://localhost:8080/"
    },
    "id": "kyCbgv9YS5Mu",
    "outputId": "090e92d7-c867-4ea6-8c5e-82e66584e3c0"
   },
   "outputs": [
    {
     "name": "stdout",
     "output_type": "stream",
     "text": [
      "*****\n",
      "*    \n",
      "*    \n",
      "*****\n",
      "*    \n",
      "*    \n",
      "*****\n"
     ]
    }
   ],
   "source": [
    "for row in range(7):\n",
    " for col in range(5):\n",
    "   if col==0 or  (row ==0 or row==3 or row==6) and (col>0): \n",
    "     print('*',end='')\n",
    "   else:\n",
    "     print(end=' ')  \n",
    " print()\n"
   ]
  },
  {
   "cell_type": "code",
   "execution_count": null,
   "metadata": {
    "colab": {
     "base_uri": "https://localhost:8080/"
    },
    "id": "HLfIaRVc-Fpk",
    "outputId": "87052c35-2101-440f-993a-5845d7db0e65"
   },
   "outputs": [
    {
     "name": "stdout",
     "output_type": "stream",
     "text": [
      "rows5\n",
      "bbbb*\n",
      "bbb***\n",
      "bb*****\n",
      "b*******\n",
      "*********\n"
     ]
    }
   ],
   "source": [
    "n=int(input(\"rows\")) #rows=3\n",
    "for row in range(0,n):  #0,1,2\n",
    "    for column in range(0,n-row-1): #0 to 3-0-1=2 [1] ,0 to 1 [0]\n",
    "        print(end=\"b\")\n",
    "    for rest_of_the_col in range(0,2*row+1): # 0 to 2*0+1 [0], 0 to 2*1+1=3 [2]\n",
    "        print(\"*\",end=\"\")\n",
    "    print()"
   ]
  },
  {
   "cell_type": "code",
   "execution_count": null,
   "metadata": {
    "colab": {
     "base_uri": "https://localhost:8080/"
    },
    "id": "HyyhhTECAHTN",
    "outputId": "56c5c957-4bc5-4c6a-f31e-185cbfc35a7e"
   },
   "outputs": [
    {
     "name": "stdout",
     "output_type": "stream",
     "text": [
      "rows5\n",
      "     *\n",
      "    ***\n",
      "   *****\n",
      "  *******\n",
      " *********\n"
     ]
    }
   ],
   "source": [
    "n=int(input(\"rows\")) \n",
    "for row in range(n):\n",
    "    for col in range(row,n):\n",
    "        print(\" \",end=\"\")\n",
    "    for col in range(row):\n",
    "        print(\"*\",end=\"\")\n",
    "    for col in range(row+1):\n",
    "        print(\"*\",end=\"\")\n",
    "    print()\n",
    "    "
   ]
  },
  {
   "cell_type": "code",
   "execution_count": null,
   "metadata": {
    "colab": {
     "base_uri": "https://localhost:8080/"
    },
    "id": "uZFvibMvBPUQ",
    "outputId": "efa5102a-20b1-4d64-f179-68c6acf97520"
   },
   "outputs": [
    {
     "name": "stdout",
     "output_type": "stream",
     "text": [
      "rows5\n",
      " *********\n",
      "  *******\n",
      "   *****\n",
      "    ***\n",
      "     *\n"
     ]
    }
   ],
   "source": [
    "n=int(input(\"rows\")) \n",
    "for row in range(n):\n",
    "    for col in range(row+1):\n",
    "        print(\" \",end=\"\")\n",
    "    for col in range(row,n-1):\n",
    "        print(\"*\",end=\"\")\n",
    "    for col in range(row,n):\n",
    "        print(\"*\",end=\"\")\n",
    "    print()"
   ]
  },
  {
   "cell_type": "code",
   "execution_count": null,
   "metadata": {
    "colab": {
     "base_uri": "https://localhost:8080/"
    },
    "id": "jLmG4KUeA3H2",
    "outputId": "825e8c93-af5d-417a-888f-62f9424449f0"
   },
   "outputs": [
    {
     "name": "stdout",
     "output_type": "stream",
     "text": [
      "rows5\n",
      "    1\n",
      "   123\n",
      "  12345\n",
      " 1234567\n",
      "123456789\n"
     ]
    }
   ],
   "source": [
    "n=int(input(\"rows\")) #rows=3\n",
    "for row in range(0,n):  #0,1,2\n",
    "    for column in range(0,n-row-1): #0 to 3-0-1=2 [1] ,0 to 1 [0]\n",
    "        print(end=\" \")\n",
    "    for rest_of_the_col in range(0,2*row+1): # 0 to 2*0+1 [0], 0 to 2*1+1=3 [2]\n",
    "        rest_of_the_col=rest_of_the_col+1\n",
    "        print(rest_of_the_col,end=\"\")\n",
    "    print()"
   ]
  },
  {
   "cell_type": "code",
   "execution_count": null,
   "metadata": {
    "colab": {
     "base_uri": "https://localhost:8080/"
    },
    "id": "rMOJ5_BwAQxR",
    "outputId": "fc4de5fc-7956-480d-e4f0-a9531b6ec809"
   },
   "outputs": [
    {
     "name": "stdout",
     "output_type": "stream",
     "text": [
      "gftyjyA5#\n",
      "valid\n"
     ]
    }
   ],
   "source": [
    "#Write a Python program to check the validity of password input by users. Go to the editor\n",
    "#Validation :\n",
    "\n",
    "#At least 1 letter between [a-z] and 1 letter between [A-Z].\n",
    "#At least 1 number between [0-9].\n",
    "#At least 1 character from [$#@].\n",
    "#Minimum length 6 characters.\n",
    "#Maximum length 16 characters.\n",
    "str=input()\n",
    "list1=[]\n",
    "list2=[]\n",
    "list3=[]\n",
    "list4=[]\n",
    "for i in range(0,len(str)):\n",
    "    if len(str)>=6 and len(str)<=16:\n",
    "        if ord(str[i])in range(65,91):\n",
    "            list1.append(str[i])\n",
    "        elif ord(str[i]) in range(48,58):\n",
    "            list2.append(str[i])\n",
    "        elif ord(str[i]) in range(97,123):\n",
    "            list3.append(str[i])\n",
    "        elif ord(str[i]) in range(35,37) or ord(str[i])==64:\n",
    "            list4.append(str[i])\n",
    "if len(list4)>=1 and len(list1)>=1 and len(list2)>=1 and len(list2)>=1:    \n",
    "    print(\"valid\")\n",
    "else:\n",
    "    print(\"invalid\")\n",
    "\n",
    "\n",
    "\n",
    "\n",
    "\n",
    "\n",
    "\n"
   ]
  },
  {
   "cell_type": "code",
   "execution_count": null,
   "metadata": {
    "colab": {
     "base_uri": "https://localhost:8080/"
    },
    "id": "LJMP2A_9oHPf",
    "outputId": "5e542ad1-9a48-4f43-8d42-a825c2705200"
   },
   "outputs": [
    {
     "name": "stdout",
     "output_type": "stream",
     "text": [
      "1\n",
      "22\n",
      "333\n",
      "4444\n"
     ]
    }
   ],
   "source": [
    "n=4\n",
    "for col in range(1,n+1):\n",
    "    for row in range(1,col+1):\n",
    "        print(col,end='')\n",
    "    print()"
   ]
  },
  {
   "cell_type": "code",
   "execution_count": null,
   "metadata": {
    "colab": {
     "base_uri": "https://localhost:8080/"
    },
    "id": "33W6gNv0oK45",
    "outputId": "6116ec28-23b5-4faa-9c3a-57f72789f875"
   },
   "outputs": [
    {
     "name": "stdout",
     "output_type": "stream",
     "text": [
      "*****\n",
      "*   *\n",
      "*   *\n",
      "*****\n",
      "*   *\n",
      "*   *\n",
      "*   *\n",
      "*   *\n"
     ]
    }
   ],
   "source": [
    "for row in range(8):\n",
    "  for col in range(5):\n",
    "    if (col==0 or col==4) or ((row == 0 or row == 3) and (col>0 and col<4)):\n",
    "      print('*',end='')\n",
    "    else:\n",
    "      print(end=' ')\n",
    "  print()"
   ]
  },
  {
   "cell_type": "code",
   "execution_count": null,
   "metadata": {
    "colab": {
     "base_uri": "https://localhost:8080/"
    },
    "id": "GF2KFmsEoQdH",
    "outputId": "e6a8b01d-3482-4160-d966-cab096213c78"
   },
   "outputs": [
    {
     "name": "stdout",
     "output_type": "stream",
     "text": [
      "Enter the number : 5\n",
      "0 1 1 2 3 "
     ]
    }
   ],
   "source": [
    "#fibonacci number...task21(ungraded)=assignment2\n",
    "num_1 = 0\n",
    "num_2 = 1\n",
    "num = 0\n",
    "\n",
    "n=int(input(\"Enter the number : \"))\n",
    "\n",
    "print(num_1,num_2,end=\" \")\n",
    "while num_1+num_2<n :\n",
    "\n",
    "    num = num_1 + num_2\n",
    "    num_1,num_2 = num_2,num\n",
    "    print(num,end=\" \")"
   ]
  },
  {
   "cell_type": "code",
   "execution_count": null,
   "metadata": {
    "colab": {
     "base_uri": "https://localhost:8080/"
    },
    "id": "NmwOxpB5oZET",
    "outputId": "d5453521-6e9b-4056-f6dc-6d2b8b0ff228"
   },
   "outputs": [
    {
     "name": "stdout",
     "output_type": "stream",
     "text": [
      "5\n",
      "*\n",
      "**\n",
      "***\n",
      "****\n",
      "*****\n",
      "****\n",
      "***\n",
      "**\n",
      "*\n"
     ]
    }
   ],
   "source": [
    "num=int(input())\n",
    "for i in range(1,num+1):\n",
    "    print(i*\"*\")\n",
    "count=num-1\n",
    "while count>0:\n",
    "    print(count*\"*\")\n",
    "    count-=1"
   ]
  },
  {
   "cell_type": "code",
   "execution_count": 1,
   "metadata": {
    "colab": {
     "base_uri": "https://localhost:8080/"
    },
    "id": "SX6BZe4NEI-g",
    "outputId": "a9a10fc1-27a7-4bac-e37a-967fb25812e8"
   },
   "outputs": [
    {
     "name": "stdout",
     "output_type": "stream",
     "text": [
      "5\n",
      "1 \n",
      "1 2 \n",
      "1 2 3 \n",
      "1 2 3 4 \n",
      "1 2 3 4 5 \n",
      "0 1 2 3 4 \n",
      "1 2 3 4 \n",
      "2 3 4 \n",
      "3 4 \n",
      "4 \n"
     ]
    }
   ],
   "source": [
    "n=int(input(''))\n",
    "for i in range(n):\n",
    "  for j in range(i+1):\n",
    "    print(j+1,end=' ')\n",
    "  print()\n",
    "for i in range(n):\n",
    "  for j in range(i,n):\n",
    "    print(j,end= ' ')\n",
    "  print()"
   ]
  }
 ],
 "metadata": {
  "colab": {
   "collapsed_sections": [],
   "name": "w3r practise loops .ipynb",
   "provenance": []
  },
  "kernelspec": {
   "display_name": "Python 3",
   "language": "python",
   "name": "python3"
  },
  "language_info": {
   "codemirror_mode": {
    "name": "ipython",
    "version": 3
   },
   "file_extension": ".py",
   "mimetype": "text/x-python",
   "name": "python",
   "nbconvert_exporter": "python",
   "pygments_lexer": "ipython3",
   "version": "3.8.8"
  }
 },
 "nbformat": 4,
 "nbformat_minor": 1
}
