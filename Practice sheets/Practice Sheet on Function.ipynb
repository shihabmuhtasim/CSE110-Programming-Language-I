{
 "cells": [
  {
   "cell_type": "markdown",
   "id": "76b399cd",
   "metadata": {},
   "source": [
    "# <font color=\"darkcyan\">Practice Sheet on Function</font>"
   ]
  },
  {
   "cell_type": "markdown",
   "id": "fe5fc247",
   "metadata": {},
   "source": [
    "   ## <font color=\"green\">Easy</font>"
   ]
  },
  {
   "cell_type": "markdown",
   "id": "659e9cf6",
   "metadata": {},
   "source": [
    "### Question - 1\n",
    "Write a function in Python that will take a string text as input from the user and\\\n",
    "returns the list of unique characters concatenated with their ASCII value at the\\\n",
    "front and back side.\n",
    "\n",
    "**Sample Input:**\\\n",
    "\"pythonbook\"\n",
    "\n",
    "**Function Calling:**\\\n",
    "function_name(\"pythonbook\")\n",
    "\n",
    "**Sample Output:**\\\n",
    "['112p112', '121y121', '116t116', '104h104', '111o111', '110n110', '98b98',\n",
    "'107k107']"
   ]
  },
  {
   "cell_type": "code",
   "execution_count": 13,
   "id": "ccb5839a",
   "metadata": {},
   "outputs": [
    {
     "name": "stdout",
     "output_type": "stream",
     "text": [
      "['112p112', '121y121', '116t116', '104h104', '111o111', '110n110', '98b98', '107k107']\n"
     ]
    }
   ],
   "source": [
    "def function_name(given):\n",
    "    new=[]\n",
    "    store=\"\"\n",
    "    for let in given:\n",
    "        if let not in store:\n",
    "            store+=let\n",
    "        else:\n",
    "            None\n",
    "    for let in store:\n",
    "        temp=ord(let)\n",
    "        new.append(str(temp)+let+str(temp))\n",
    "    return new\n",
    "\n",
    "\n",
    "print(function_name(given=\"pythonbook\"))\n"
   ]
  },
  {
   "cell_type": "code",
   "execution_count": null,
   "id": "a4d9431b",
   "metadata": {},
   "outputs": [],
   "source": [
    "#if they want the dup removed as well\n",
    "def function_name(given):\n",
    "    new=[]\n",
    "    store=\"\"\n",
    "    dup=''\n",
    "    for let in given:\n",
    "        if let not in store:\n",
    "            store+=let\n",
    "        else:\n",
    "            dup+=let\n",
    "    for i in dup: \n",
    "        store_2=store.replace(i,\"\")\n",
    "    for let in store_2:\n",
    "        temp=ord(let)\n",
    "        new.append(str(temp)+let+str(temp))\n",
    "    return new\n",
    "\n",
    "\n",
    "print(function_name(given=\"pythonbook\"))\n"
   ]
  },
  {
   "cell_type": "markdown",
   "id": "1edb2d73",
   "metadata": {},
   "source": [
    "### Question - 2\n",
    "Write a function in Python that will take a string text as input from the user and\\\n",
    "returns a dictionary having the unique characters as the keys and the list of their\\\n",
    "both-way indexes(positive and negative index) as the values.\n",
    "\n",
    "**Sample Input:**\\\n",
    "\"pythonbook\"\n",
    "\n",
    "**Function Calling:**\\\n",
    "function_name(\"pythonbook\")\n",
    "\n",
    "**Sample Output:**\\\n",
    "{'p': [0, -10], 'y': [1, -9], 't': [2, -8], 'h': [3, -7], 'o': [4, -6, 7, -3, 8, -2], 'n': [5, -5], 'b': [6, -4], 'k':\n",
    "[9, -1]}"
   ]
  },
  {
   "cell_type": "code",
   "execution_count": 21,
   "id": "d3c06184",
   "metadata": {},
   "outputs": [
    {
     "name": "stdout",
     "output_type": "stream",
     "text": [
      "{'p': [0, -10], 'y': [1, -9], 't': [2, -8], 'h': [3, -7], 'o': [4, -6, 7, -3, 8, -2], 'n': [5, -5], 'b': [6, -4], 'k': [9, -1]}\n"
     ]
    }
   ],
   "source": [
    "def function_name(given):\n",
    "    dic={}\n",
    "    start=0\n",
    "    end=-len(given)\n",
    "    for i in given:\n",
    "        if i not in dic:\n",
    "            dic[i]=[start,end]\n",
    "            start+=1\n",
    "            end+=1\n",
    "        else:\n",
    "            dic[i].append(start)\n",
    "            dic[i].append(end)\n",
    "            start+=1\n",
    "            end+=1\n",
    "    return dic    \n",
    "print(function_name(given=\"pythonbook\"))"
   ]
  },
  {
   "cell_type": "markdown",
   "id": "09f86f31",
   "metadata": {},
   "source": [
    "## <font color=\"orange\">Medium</font>"
   ]
  },
  {
   "cell_type": "markdown",
   "id": "67b3e0c6",
   "metadata": {},
   "source": [
    "### Question - 3\n",
    "Write a function in Python that will take a space separated string text as input\\\n",
    "from the user and returns a dictionary having the unique words as the keys and\\\n",
    "their frequency in the given text as the values in a sorted order(ascending)\\\n",
    "according to the frequencies.\n",
    "\n",
    "**Sample Input:**\\\n",
    "\"go there come and go here and there go care\"\n",
    "\n",
    "**Function Calling:**\\\n",
    "function_name(\"go there come and go here and there go care\")\n",
    "\n",
    "**Sample Output:**\\\n",
    "{'come': 1, 'here': 1, 'care': 1, 'there': 2, 'and': 2, 'go': 3}"
   ]
  },
  {
   "cell_type": "code",
   "execution_count": 38,
   "id": "03c1ad1d",
   "metadata": {},
   "outputs": [
    {
     "name": "stdout",
     "output_type": "stream",
     "text": [
      "{'come': 1, 'here': 1, 'care': 1, 'there': 2, 'and': 2, 'go': 3}\n"
     ]
    }
   ],
   "source": [
    "def function_name(given):\n",
    "    given=given.split(\" \")\n",
    "    new={}\n",
    "    for word in given:\n",
    "        count=given.count(word)\n",
    "        new[word]=count\n",
    "    li=list(new.items())\n",
    "   \n",
    "    for i in range(len(li)-1):\n",
    "        for j in range(i+1,len(li)):\n",
    "            if li[i][1]>li[j][1]:\n",
    "                temp=li[j]\n",
    "                li[j]=li[i]\n",
    "                li[i]=temp\n",
    "    final=dict(li)\n",
    "    return final\n",
    "print(function_name(given=\"go there come and go here and there go care\"))"
   ]
  },
  {
   "cell_type": "markdown",
   "id": "3f01bdb7",
   "metadata": {},
   "source": [
    "### Question - 4\n",
    "Write a function in Python that will take a number string text as input from the\\\n",
    "user and returns a dictionary having the unique numbers as the keys and the\\\n",
    "tuple of being the number to be even, odd, prime and perfect as the values.\n",
    "\n",
    "**Sample Input:**\\\n",
    "\"2441396\"\n",
    "\n",
    "**Function Calling:**\\\n",
    "function_name(\"2441396\")\n",
    "\n",
    "**Sample Output:**\\\n",
    "{2: ('even', 'prime', 'not perfect'), 4: ('even', 'not prime', 'not perfect'), 1: ('odd', 'not\\\n",
    "prime', 'not perfect'), 3: ('odd', 'prime', 'not perfect'), 9: ('odd', 'not prime', 'not\\\n",
    "perfect'), 6: ('even', 'not prime', 'perfect')}"
   ]
  },
  {
   "cell_type": "code",
   "execution_count": 39,
   "id": "8d75bfbe",
   "metadata": {},
   "outputs": [
    {
     "name": "stdout",
     "output_type": "stream",
     "text": [
      "HELLO 2\n",
      "HELLO 4\n",
      "HELLO 1\n",
      "HELLO 3\n",
      "HELLO 9\n",
      "HELLO 6\n",
      "{2: ('even', 'Prime', 'Not perfect'), 4: ('even', 'Not prime', 'Not perfect'), 1: ('odd', 'Not prime', 'Not perfect'), 3: ('odd', 'Prime', 'Not perfect'), 9: ('odd', 'Not prime', 'Not perfect'), 6: ('even', 'Not prime', 'Perfect')}\n"
     ]
    }
   ],
   "source": [
    "def function_name(given):\n",
    "  dic={}\n",
    "  for i in given:\n",
    "    li=[]\n",
    "    if int(i) not in dic.keys():\n",
    "      print(\"HELLO\",i)\n",
    "      if int(i)%2==0:\n",
    "        li.append(\"even\")\n",
    "      else:\n",
    "        li.append(\"odd\")\n",
    "      variable=function_prime(i)\n",
    "      li.append(variable)\n",
    "      sum=0\n",
    "      for num in range(1,int(i)):\n",
    "        if int(i)%num==0:\n",
    "          sum+=num\n",
    "      if sum==int(i):\n",
    "        li.append(\"Perfect\")\n",
    "      else:\n",
    "        li.append(\"Not perfect\")\n",
    "      tup= tuple (li)\n",
    "      dic[int(i)]=tup\n",
    "  return dic\n",
    "def  function_prime(number):\n",
    "      flag=True\n",
    "      if int(number)<2:\n",
    "        flag=False\n",
    "      elif int(number)==2:\n",
    "        flag=True\n",
    "      else:\n",
    "        for num in range(2,int(number)):\n",
    "          if int(number)%num==0:\n",
    "            flag=False\n",
    "            break\n",
    "          else:\n",
    "            flag=True\n",
    "      if flag==True:\n",
    "        return \"Prime\" \n",
    "      else:\n",
    "        return \"Not prime\"\n",
    "print(function_name(given=\"2441396\"))"
   ]
  },
  {
   "cell_type": "markdown",
   "id": "d5be35bb",
   "metadata": {},
   "source": [
    "### Question - 5\n",
    "Write a function in Python that will take two matrices as input from the user in\\\n",
    "two lists. Then return the summation matrix and print it in the function call.\\\n",
    "<font color=\"blue\">[A matrix can only be added to another matrix if the two matrices have the same\\\n",
    "dimension]</font>\\\n",
    "**<font color=\"red\">[Avoid using built-in Functions]</font>**\n",
    "\n",
    "**Sample Input:**\\\n",
    "matrix_A = [ [1,5] , [-4,3] ]\\\n",
    "matrix_B = [ [2,-1] , [4,-1] ]\n",
    "\n",
    "**Function Calling:**\\\n",
    "function_name(matrix_A , matrix_B)\n",
    "\n",
    "**Sample Output:**\\\n",
    "matrix_sum = [ [3,4] , [0,2] ]\n",
    "\n",
    "**Explanation:**\\\n",
    "Inside matrix_A and matrix_B, each list is a row matrix. For example, In matrix_A,\\\n",
    "Row 1----->[1,5]\\\n",
    "Row 2---->[-4,3]\\\n",
    "In matrix_B,Row 1--->[2,-1]\\\n",
    "Row 2--->[4,-1]\\\n",
    "So in output,matrix_sum = [ [1+2 , 5 -1]\\\n",
    "[-4+ 4, 4 -1] ]"
   ]
  },
  {
   "cell_type": "code",
   "execution_count": 12,
   "id": "f210e255",
   "metadata": {},
   "outputs": [
    {
     "name": "stdout",
     "output_type": "stream",
     "text": [
      "choto hagu\n",
      "[]\n"
     ]
    }
   ],
   "source": [
    "def function_name(matrix_a , matrix_b):\n",
    "    li=[]\n",
    "    if len(matrix_a)==len(matrix_a):\n",
    "        for row in range(len(matrix_a)):\n",
    "            if len(matrix_a[row])==len(matrix_b[row]):\n",
    "                sub=[]\n",
    "                for col in range(len(matrix_a[row])):\n",
    "                    total= matrix_a[row][col]+matrix_b[row][col]\n",
    "                    sub.append(total)\n",
    "                li.append(sub)\n",
    "            else:\n",
    "                print(\"choto hagu\")\n",
    "                break\n",
    "    else:\n",
    "        print(\"hagu\")\n",
    "    print(li)    \n",
    "matrix_a= [[1,5,7] , [-4,3]]\n",
    "matrix_b=[[2,-1] , [4,-1]]\n",
    "function_name(matrix_a , matrix_b)"
   ]
  },
  {
   "cell_type": "code",
   "execution_count": null,
   "id": "a9ee8062",
   "metadata": {},
   "outputs": [],
   "source": [
    "matrix=[]\n",
    "n=int(input(\"Enter \"))"
   ]
  },
  {
   "cell_type": "markdown",
   "id": "07beb426",
   "metadata": {},
   "source": [
    "## <font color=\"red\">Hard</font>"
   ]
  },
  {
   "cell_type": "markdown",
   "id": "5d415aad",
   "metadata": {},
   "source": [
    "### Question - 6\n",
    "Write a Python program that will take a number N and for the keys(1 to N) take\\\n",
    "N number of lists-as the values of a dictionary, with N number of elements in\\\n",
    "each list from the user. Here Key number refers to the row numbers.\\\n",
    "Call a Convert_to _diagonal function that takes the dictionary of a nondiagonal\\\n",
    "square matrix. Inside this Function, call another function convert_to list, which\\\n",
    "converts the dictionary into a list of lists and returns the list. Where each list\\\n",
    "represents a row matrix.\\\n",
    "After that, convert the square non-diagonal matrix list into a diagonal matrix list.\\\n",
    "Then print it in the function.\\\n",
    "**<font color=\"red\">[Avoid using built-in Functions]</font>**\n",
    "\n",
    "**Sample Input:**\n",
    "4\\\n",
    "square_matrix_dict = {1 : [1,2,3,4] , 2 : [4,5,6,7] , 3 : [7,8,9,3] , 4:[9,1,2,3] }\n",
    "\n",
    "**Function Calling:**\\\n",
    "convert_to _diagonal(square_matrix_dict)\n",
    "\n",
    "**Sample Output:**\\\n",
    "Non Diagonal matrix:\\\n",
    "1 2 3 4\\\n",
    "4 5 6 7\\\n",
    "7 8 9 3\\\n",
    "9 1 2 3\\\n",
    "Diagonal Matrix :\\\n",
    "1 0 0 0\\\n",
    "0 5 0 0\\\n",
    "0 0 9 0\\\n",
    "0 0 0 3\n",
    "\n",
    "**Explanation:**\\\n",
    "<font color=\"blue\">[Square Matrix: A square matrix is a matrix with the same number of rows and\\\n",
    "columns. And Diagonal Matrix: Any given square matrix where all the elements are zero\\\n",
    "except for the elements that are present diagonally is called a diagonal matrix]</font>\n",
    "\n",
    "1. Take input from user and create square_matrix_dict dictionary and call\\\n",
    "convert_to _diagonal(square_matrix_dict).\n",
    "2. Convert, square_matrix_dict = {1 : [1,2,3,4] , 2 : [4,5,6,7] , 3 : [7,8,9,3] , 4:[9,1,2,3] }\\\n",
    "into a list , nonDiagonal_matrix_list = [ [1,2,3,4] , [4,5,6,7] , [7,8,9,3] , [9,1,2,3] ]\\\n",
    "using convert_to _list Function.\n",
    "3. Return the list in convert_to _diagonal Function and convert the\\\n",
    "“nonDiagonal_matrix_list” into a “ diagonal_matrix_list”.\n",
    "4. Print both non-diagonal and diagonal matrices like the output."
   ]
  },
  {
   "cell_type": "code",
   "execution_count": 59,
   "id": "59060d22",
   "metadata": {},
   "outputs": [
    {
     "name": "stdout",
     "output_type": "stream",
     "text": [
      "1 2 3 4 \n",
      "4 5 6 7 \n",
      "7 8 9 3 \n",
      "9 1 2 3 \n",
      "1 0 0 0 \n",
      "0 5 0 0 \n",
      "0 0 9 0 \n",
      "0 0 0 3 \n"
     ]
    }
   ],
   "source": [
    "def convert_to_diagonal(dict):\n",
    "    def convert_to_list(dict):\n",
    "        con_list=[]\n",
    "        for key,val in dict.items():\n",
    "            con_list.append(val)\n",
    "        return(con_list) \n",
    "    list_con=convert_to_list(dict)\n",
    "    return list_con\n",
    "n=4\n",
    "x=convert_to_diagonal(dict={1 : [1,2,3,4] , 2 : [4,5,6,7] , 3 : [7,8,9,3] , 4:[9,1,2,3] })\n",
    "for i in x:\n",
    "    for j in i:\n",
    "        print(j,end=\" \")\n",
    "    print()\n",
    "for row in range(n):\n",
    "    for col in range(row):\n",
    "        print(\"0\",end=\" \")\n",
    "    temp=x[row][row]\n",
    "    print(temp,end=\" \")\n",
    "    for co_2 in range(n-1-row):\n",
    "        print('0',end=\" \")\n",
    "    print()\n",
    "      "
   ]
  },
  {
   "cell_type": "markdown",
   "id": "55be4e4b",
   "metadata": {},
   "source": [
    "                                \n",
    "                                \n",
    "                                Md. Saiful Islam (MSI) & Anika Tasnim"
   ]
  }
 ],
 "metadata": {
  "kernelspec": {
   "display_name": "Python 3",
   "language": "python",
   "name": "python3"
  },
  "language_info": {
   "codemirror_mode": {
    "name": "ipython",
    "version": 3
   },
   "file_extension": ".py",
   "mimetype": "text/x-python",
   "name": "python",
   "nbconvert_exporter": "python",
   "pygments_lexer": "ipython3",
   "version": "3.8.8"
  }
 },
 "nbformat": 4,
 "nbformat_minor": 5
}
