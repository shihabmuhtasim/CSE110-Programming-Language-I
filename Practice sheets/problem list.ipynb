{
 "cells": [
  {
   "cell_type": "markdown",
   "id": "b5a551b1",
   "metadata": {},
   "source": [
    "Write a function that takes a list as an argument. The list will contain a \n",
    "mixture of integers and letters. Your function should return a modified \n",
    "list so that --\n",
    "If the number of integers is twice the number of letters, then the list \n",
    "should contain 2 integers followed by 1 letter consecutively.\n",
    "If the number of letters is 3 times the number of integers (the ratio is \n",
    "3:1), then the list should contain 3 letters followed by 1 integer \n",
    "consecutively.\n",
    "For other cases, arrange the integers and letters alternatively.\n",
    "================================================\n",
    "\n",
    "Function Call1:\n",
    "function_name(['2', 'r', '6', '7', 'a', '4', 'b', '7', '9', 'c', 'd', '5', '3', '7', '0'])\n",
    "Sample Output1:\n",
    "['2', '6', 'r', '7', '4', 'a', '7', '9', 'b', '5', '3', 'c', '7', '0', 'd']\n",
    "\n",
    "Explanation1:\n",
    "Since there are 10 integers and 5 letters, the list has been arranged \n",
    "according to condition 1.\n",
    "\n",
    "================================================\n",
    "\n",
    "Function Call2:\n",
    "function_name(['r', 'g', '3', 'u', 's', 'f', '8', '6', 's', 'a', 'f', 'i'])\n",
    "Sample Output2:\n",
    "['r', 'g', 'u', '3', 's', 'f', 's', '8', 'a', 'f', 'i', '6']\n",
    "\n",
    "Explanation2:\n",
    "Since there are 3 integers and 9 letters, the list has been arranged \n",
    "according to condition 2.\n",
    "\n",
    "================================================\n",
    "Function Call3:\n",
    "function_name(['2', '6', 't', '5', 'a', 'd', 's', 'f', '7', 'i', 'j', '9', 'a', '4', 'b'])\n",
    "Sample Output3:\n",
    "['2', 't', '6', 'a', '5', 'd', '7', 's', '9', 'f', '4', 'i', 'j', 'a', 'b']\n",
    "\n",
    "Explanation3:\n",
    "Since there are 6 integers and 9 letters, the list has been arranged \n",
    "according to condition 3. The extra letters at the end are left as it was."
   ]
  },
  {
   "cell_type": "code",
   "execution_count": 7,
   "id": "da79cc93",
   "metadata": {},
   "outputs": [
    {
     "name": "stdout",
     "output_type": "stream",
     "text": [
      "['r', 'a', 'b', 'c', 'd']\n"
     ]
    }
   ],
   "source": [
    "def function_name(a_list):\n",
    "    int_count = 0\n",
    "    alpha_count = 0\n",
    "    int_list = []\n",
    "    alpha_list = []\n",
    "    for i in a_list:\n",
    "        if 48 <= ord(i) <= 57:\n",
    "            int_count += 1\n",
    "            int_list.append(i)\n",
    "        else:\n",
    "            alpha_count += 1\n",
    "            alpha_list.append(i)\n",
    "\n",
    "    result = []\n",
    "    if int_count == 2*(alpha_count):\n",
    "\n",
    "            index = 0\n",
    "            if index%3!=0: \n",
    "                for counter in range(len(int_list)):\n",
    "                    result.append(int_list[counter])\n",
    "                    index+=1\n",
    "            else:\n",
    "                for counter in range(len(alpha_list)):\n",
    "                    result.append(alpha_list[counter])\n",
    "                    index+=1\n",
    "\n",
    "    \n",
    "    return result\n",
    "\n",
    "user_list = ['2', 'r', '6', '7', 'a', '4', 'b', '7', '9', 'c', 'd', '5', '3', '7', '0']\n",
    "print(function_name(user_list))"
   ]
  }
 ],
 "metadata": {
  "kernelspec": {
   "display_name": "Python 3",
   "language": "python",
   "name": "python3"
  },
  "language_info": {
   "codemirror_mode": {
    "name": "ipython",
    "version": 3
   },
   "file_extension": ".py",
   "mimetype": "text/x-python",
   "name": "python",
   "nbconvert_exporter": "python",
   "pygments_lexer": "ipython3",
   "version": "3.8.8"
  }
 },
 "nbformat": 4,
 "nbformat_minor": 5
}
