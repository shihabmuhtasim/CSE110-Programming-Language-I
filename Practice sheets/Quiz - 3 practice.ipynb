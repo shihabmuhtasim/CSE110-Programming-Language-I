{
 "cells": [
  {
   "cell_type": "markdown",
   "id": "d374e982",
   "metadata": {},
   "source": [
    "# <font color='darkcyan'>Quiz 3</font>"
   ]
  },
  {
   "cell_type": "markdown",
   "id": "3b883229",
   "metadata": {},
   "source": [
    "## Question - 1\n",
    "Write a python program that will take a string as input from the user.  The\\\n",
    "input string should have a combination of BOTH the alphabets and the\\\n",
    "digits. Then, your task is to identify the digits and alphabets from that\\\n",
    "input string and make separate groups that classify it into two categories:\\\n",
    "digits(0-9) and the alphabets. Consider the alphabets to be NOT\\\n",
    "case-sensitive.\n",
    "\n",
    "Then make a dictionary with the two separated groups where digits(0-9)’s\\\n",
    "key will be 1, and alphabet’s key will be 2. Then, finally, print the\\\n",
    "dictionary to the user.\n",
    "\n",
    "**<font color='red'>[Make sure when grouping the characters, NO DUPLICATE values are added]</font>**\n",
    "\n",
    "================================================\n",
    "\n",
    "**Sample Input 1:**\\\n",
    "CSE110 cse490 CsE258\n",
    "\n",
    "**Sample Output 1:**\\\n",
    "{1: ['1', '0', '4', '9', '2', '5', '8'], 2: ['c', 's', 'e']}\n",
    "\n",
    "**Explanation 1:**\\\n",
    "Here, '1', '0', '4', '9', '2', '5' , '8'  falls under the 1st category\\\n",
    "and 'c', 's', 'e' falls under the 2nd category.\n",
    "\n",
    "================================================\n",
    "\n",
    "**Sample Input 2:**\\\n",
    "this is cse110 quiz\n",
    "\n",
    "**Sample Output 2:**\\\n",
    "{1: ['1', '0'], 2: ['t', 'h', 'i', 's', 'c', 'e', 'q', 'u', 'z']}\n",
    "\n",
    "**Explanation 2:**\\\n",
    "Here, '1', '0' falls under the 1st category\\\n",
    "and  't', 'h', 'i', 's', 'c', 'e', 'q', 'u', 'z' falls under the 2nd\\\n",
    "category."
   ]
  },
  {
   "cell_type": "code",
   "execution_count": 10,
   "id": "54925e74",
   "metadata": {},
   "outputs": [
    {
     "name": "stdout",
     "output_type": "stream",
     "text": [
      "{1: ['1', '0', '4', '9', '2', '5', '8'], 2: ['c', 's', 'e']}\n"
     ]
    }
   ],
   "source": [
    "string=\"CSE110 cse490 CsE258\"\n",
    "string_low=string.lower()\n",
    "alpha=[]\n",
    "num_list=[]\n",
    "for i in string_low:\n",
    "    if ord('a')<=ord(i)<=ord('z'):\n",
    "        if i not in alpha:\n",
    "            alpha.append(i)\n",
    "    elif ord('0')<=ord(i)<=ord('9'):\n",
    "        if i not in num_list:\n",
    "            num_list.append(i)\n",
    "dic={}\n",
    "dic[1]=num_list\n",
    "dic[2]=alpha\n",
    "print(dic)"
   ]
  },
  {
   "cell_type": "markdown",
   "id": "c78ff4e2",
   "metadata": {},
   "source": [
    "## Question - 2\n",
    "Write a python program that takes a sentence as an input from the user.\\\n",
    "Create a dictionary with all the numbers where the keys will be the\\\n",
    "corresponding string lengths. You should ignore all the signs.\n",
    "\n",
    "================================================\n",
    "\n",
    "**Sample Input 1:**\\\n",
    "The two cats approached Bob with fear, but once they saw that Bob was\\\n",
    "harmless, they bonded with him quickly.\n",
    "\n",
    "**Sample Output 1:**\\\n",
    "{3: ['The', 'two', 'Bob', 'but', 'saw', 'Bob', 'was', 'him'], 4:\\\n",
    "['cats', 'with', 'fear', 'once', 'they', 'that', 'they', 'with'], 10:\\\n",
    "['approached'], 8: ['harmless'], 6: ['bonded'], 7: ['quickly']}\n",
    "\n",
    "**Explanation1:**\\\n",
    "Each word belongs to a key corresponding to its length.\n",
    "\n",
    "================================================\n",
    "\n",
    "**Sample Input 2:**\\\n",
    "Hard work is a key to achieving success.\n",
    "\n",
    "**Sample Output 2:**\\\n",
    "{4: ['Hard', 'work'], 2: ['is', 'to'], 1: ['a'], 3: ['key'], 9:\\\n",
    "['achieving'], 7: ['success']}\n",
    "\n",
    "\n",
    "**Explanation2:**\\\n",
    "Each word belongs to a key corresponding to its length."
   ]
  },
  {
   "cell_type": "code",
   "execution_count": 13,
   "id": "638d4a0d",
   "metadata": {},
   "outputs": [
    {
     "name": "stdout",
     "output_type": "stream",
     "text": [
      "['Hard', 'work', 'is', 'a', 'key', 'to', 'achieving', 'success']\n",
      "{4: ['Hard', 'work'], 2: ['is', 'to'], 1: ['a'], 3: ['key'], 9: ['achieving'], 7: ['success']}\n"
     ]
    }
   ],
   "source": [
    "string=\"Hard work is a key to achieving success.\".strip(\".\")\n",
    "dic={}\n",
    "li=string.split(\" \")\n",
    "print(li)\n",
    "for w in li:\n",
    "    a=len(w)\n",
    "    if a not in dic.keys():\n",
    "        dic[a]=[w]\n",
    "    else:\n",
    "        dic[a].append(w)\n",
    "print(dic)"
   ]
  },
  {
   "cell_type": "markdown",
   "id": "b11f1a17",
   "metadata": {},
   "source": [
    "## Question - 3\n",
    "Write a Python program that will take N Student IDs from the user.\\\n",
    "<font color='darkcyan'>[First, take N, then take N number of student IDs as input from the user.]</font>\\\n",
    "Create a dictionary from the N IDs that will hold the IDs in separate keys based on the admitting year.\n",
    "\n",
    "**Explanation: First 2 digits of the ID denotes the year.**\n",
    "\n",
    "================================================\n",
    "\n",
    "**Sample Input1:**\\\n",
    "5\\\n",
    "18101202\\\n",
    "18104354\\\n",
    "20101457\\\n",
    "19103372\\\n",
    "20301021\n",
    "\n",
    "**Sample Output1:**\\\n",
    "{'18th': ['18101202', '18104354'], '20th': ['20101457', '20301021'], '19th': ['19103372']}\n",
    "\n",
    "================================================\n",
    "\n",
    "**Sample Input2:**\\\n",
    "6\\\n",
    "10101202\\\n",
    "12104354\\\n",
    "13101457\\\n",
    "13103372\\\n",
    "20301021\\\n",
    "10101457\n",
    "\n",
    "**Sample Output2:**\\\n",
    "{'10th': ['10101202', '10101457'], '12th': ['12104354'], '13th': ['13101457', '13103372'], '20th': ['20301021']}"
   ]
  },
  {
   "cell_type": "code",
   "execution_count": null,
   "id": "acee5eed",
   "metadata": {},
   "outputs": [],
   "source": []
  },
  {
   "cell_type": "markdown",
   "id": "19ac4468",
   "metadata": {},
   "source": [
    "## Question - 4\n",
    "Write a program that takes an integer as input and then constructs a\\\n",
    "dictionary. The dictionary should have nine keys at the end, representing\\\n",
    "numbers from 2 to 10 (inclusive). For each key, the value should be True,\\\n",
    "if the user input is divisible by the key. Otherwise, False.\n",
    "\n",
    "================================================\n",
    "\n",
    "**Sample Input 1:**\\\n",
    "40\n",
    "\n",
    "**Sample Output 1:**\\\n",
    "{2: True, 3: False, 4: True, 5: True, 6: False, 7: False, 8: True, 9:\\\n",
    "False, 10: True}\n",
    "\n",
    "**Explanation1:**\\\n",
    "40 is divisible by 2, 4, 5, 8, and 10, so the values for those keys are\\\n",
    "True. 40 is not divisible by 3, 6, 7, or 9, so the values for those keys\\\n",
    "are False.\n",
    "\n",
    "================================================\n",
    "\n",
    "**Sample Input 2:**\\\n",
    "11\n",
    "\n",
    "**Sample Output 2:**\\\n",
    "{2: False, 3: False, 4: False, 5: False, 6: False, 7: False, 8: False, 9:\\\n",
    " False, 10: False}\n",
    "\n",
    "**Explanation2:**\\\n",
    "11 is not divisible by any number from 2 to 10, so the values for all keys\\\n",
    "are False.\n",
    "\n",
    "================================================\n",
    "\n",
    "**Sample Input 3:**\\\n",
    "15\n",
    "\n",
    "**Sample Output 3:**\\\n",
    "{2: False, 3: True, 4: False, 5: True, 6: False, 7: False, 8: False, 9:\\\n",
    " False, 10: False}\n",
    "\n",
    "**Explanation3:**\\\n",
    "15 is divisible by 3 and 5, so the values for those keys are True. 15 is\\\n",
    "not divisible by 2, 4, 6, 7, 8 or 9, so the values for those keys are False."
   ]
  },
  {
   "cell_type": "code",
   "execution_count": 14,
   "id": "56d53fb5",
   "metadata": {},
   "outputs": [
    {
     "name": "stdout",
     "output_type": "stream",
     "text": [
      "{2: 'False', 3: 'False', 4: 'False', 5: 'False', 6: 'False', 7: 'False', 8: 'False', 9: 'False', 10: 'False'}\n"
     ]
    }
   ],
   "source": [
    "n=40\n",
    "dic={}\n",
    "for i in range(2,11):\n",
    "    if i%n==0:\n",
    "        dic[i]=\"True\"\n",
    "    else:\n",
    "        dic[i]=\"False\"\n",
    "print(dic)"
   ]
  },
  {
   "cell_type": "markdown",
   "id": "b596135f",
   "metadata": {},
   "source": [
    "## Question - 5\n",
    "Take a single string as an input from the user where few numbers are\\\n",
    "separated by commas. Now, you have to check the divisibility of each of the\\\n",
    "numbers by 2, 3, or 5.\\\n",
    "Write a Python program that constructs a dictionary with keys “Divisible by\\\n",
    "2”, “Divisible by 3”, “Divisible by 5”, and “None”, with values as lists of\\\n",
    "elements satisfying the respective condition.\n",
    "\n",
    "================================================\n",
    "\n",
    "**Sample Input1:**\\\n",
    "15, 5, 3, 12, 14, 24, 49, 42\n",
    "\n",
    "**Sample Output1:**\\\n",
    "{'Divisible by 2': [12, 14, 24, 42], 'Divisible by 3': [15, 3, 12, 24,\\\n",
    "42], 'Divisible by 5': [15, 5], 'None': [49]}\n",
    "\n",
    "**Explanation1:**\\\n",
    "12, 14, 24, and 42 are divisible by 2, so they belong to the key named\\\n",
    "“Divisible by 2”. 15, 3, 12, 24, and 42 are divisible by 3, so they belong\\\n",
    "to the key named “Divisible by 3”. 15 and 5 are divisible by 5, so they\\\n",
    "belong to the key named “Divisible by 5”. 49 is not divisible by 2,3 or 5,\\\n",
    "so it belongs to the key named “None”."
   ]
  },
  {
   "cell_type": "code",
   "execution_count": 25,
   "id": "3cd604c5",
   "metadata": {},
   "outputs": [
    {
     "name": "stdout",
     "output_type": "stream",
     "text": [
      "{'Divisible by 2': [12, 14, 24, 42], 'Divisible by 3': [15, 3, 12, 24, 42], 'Divisible by 5': [15, 5], 'None': [49]}\n"
     ]
    }
   ],
   "source": [
    "string=\"15, 5, 3, 12, 14, 24, 49, 42\"\n",
    "nums=string.split(\",\")\n",
    "dic={}\n",
    "div_2=[]\n",
    "div_3=[]\n",
    "div_5=[]\n",
    "none=[]\n",
    "for i in nums:\n",
    "    if int(i)%2==0:\n",
    "        div_2.append(int(i))\n",
    "    if int(i)%3==0:\n",
    "        div_3.append(int(i))\n",
    "    if int(i)%5==0:\n",
    "        div_5.append(int(i))\n",
    "    if int(i)%2!=0 and int(i)%3!=0 and int(i)%5!=0:\n",
    "        none.append(int(i))\n",
    "dic['Divisible by 2']=div_2\n",
    "dic['Divisible by 3']=div_3\n",
    "dic['Divisible by 5']=div_5\n",
    "dic['None']=none\n",
    "print(dic)"
   ]
  },
  {
   "cell_type": "markdown",
   "id": "40930c21",
   "metadata": {},
   "source": [
    "## Question - 6\n",
    "Write a python program that asks the user for a range (a starting\\\n",
    "number(inclusive) and an ending number(inclusive)). Make a dictionary with\\\n",
    "all the numbers that DO NOT end with 1, 2, and 7 within that range.\\\n",
    "Here in the dictionary, all the digits except 1, 2& 7 are the keys, and\\\n",
    "numbers that do not end with 1, 2 & 7 are the values. Finally, print the\\\n",
    "dictionary.\n",
    "\n",
    "================================================\n",
    "\n",
    "**Sample Input 1:**\\\n",
    "30\\\n",
    "50\n",
    "\n",
    "**Sample Output 1:**\\\n",
    "{0: [30, 40], 3: [33, 43], 4: [34, 44], 5: [35, 45], 6: [36, 46], 8: [38,\\\n",
    "48], 9: [39, 49]}\n",
    "\n",
    "================================================\n",
    "\n",
    "**Sample Input 2:**\\\n",
    "370\\\n",
    "385\n",
    "\n",
    "**Sample Output 2:**\\\n",
    "{0: [370, 380], 3: [373, 383], 4: [374, 384], 5: [375], 6: [376], 8: [378],\\\n",
    "9: [379]}"
   ]
  },
  {
   "cell_type": "code",
   "execution_count": 34,
   "id": "84093fc4",
   "metadata": {},
   "outputs": [
    {
     "name": "stdout",
     "output_type": "stream",
     "text": [
      "{'0': [30, 40], '3': [33, 43], '4': [34, 44], '5': [35, 45], '6': [36, 46], '8': [38, 48], '9': [39, 49]}\n"
     ]
    }
   ],
   "source": [
    "start='30'\n",
    "end='50'\n",
    "dic={}\n",
    "for num in range(int(start),int(end)):\n",
    "    temp=(str(num)[-1])\n",
    "    if temp!='1' and temp!='2' and temp!='7':\n",
    "        if temp not in dic:\n",
    "            dic[temp]=[num]\n",
    "        else:\n",
    "            dic[temp].append(num)\n",
    "print(dic)"
   ]
  },
  {
   "cell_type": "code",
   "execution_count": 38,
   "id": "2e2514c8",
   "metadata": {},
   "outputs": [
    {
     "name": "stdout",
     "output_type": "stream",
     "text": [
      "{0: [30, 40], 3: [33, 43], 4: [34, 44], 5: [35, 45], 6: [36, 46], 8: [38, 48], 9: [39, 49]}\n"
     ]
    }
   ],
   "source": [
    "start=30\n",
    "end=50\n",
    "dic={}\n",
    "for num in range((start),(end)):\n",
    "    temp=num%10\n",
    "    if temp!=1 and temp!=2 and temp!=7:\n",
    "        if temp not in dic:\n",
    "            dic[temp]=[num]\n",
    "        else:\n",
    "            dic[temp].append(num)\n",
    "print(dic)"
   ]
  },
  {
   "cell_type": "markdown",
   "id": "1e782ce9",
   "metadata": {},
   "source": [
    "## 𝗤𝘂𝗲𝘀𝘁𝗶𝗼𝗻 - 7\n",
    "Write a Python program that will take N Student IDs from the user.\\\n",
    "<font color='darkcyan'>[First, take N, then take N number of student IDs as input from the user.]</font>\\\n",
    "Create a dictionary from the N IDs that will hold the IDs in separate keys based on\\\n",
    "the admitting semester.\n",
    "\n",
    "**Explanation: 3rd digit of the ID denotes semester.**\n",
    "\n",
    "            1 = Spring\n",
    "            3 = Summer\n",
    "            2 = Fall\n",
    "\n",
    "For example, 18101202 is from the Spring semester because the 3rd digit is 1.\n",
    "\n",
    "================================================\n",
    "\n",
    "**Sample Input1:**\\\n",
    "5\\\n",
    "18101202\\\n",
    "18204354\\\n",
    "20101457\\\n",
    "19303372\\\n",
    "20201999\n",
    "\n",
    "**Sample Output1:**\\\n",
    "{'Spring': ['18101202', '20101457'], 'Fall':\\\n",
    "['18204354', '20201999'], 'Summer': ['19303372']}\n",
    "\n",
    "================================================\n",
    "\n",
    "**Sample Input2:**\\\n",
    "4\\\n",
    "18201202\\\n",
    "18104354\\\n",
    "20101457\\\n",
    "19203372\n",
    "\n",
    "**Sample Output2:**\\\n",
    "{'Fall': ['18201202', '19203372'], 'Spring': ['18104354', '20101457']}"
   ]
  },
  {
   "cell_type": "code",
   "execution_count": 2,
   "id": "f443b7f3",
   "metadata": {},
   "outputs": [
    {
     "name": "stdout",
     "output_type": "stream",
     "text": [
      "18101202 \n",
      "18204354 \n",
      "20101457 \n",
      "19303372 \n",
      "20201999\n",
      "{'Spring': ['18101202 ', '20101457 '], 'fall': ['18204354 ', '20201999'], 'Summer': ['19303372 ']}\n"
     ]
    }
   ],
   "source": [
    "n=5\n",
    "dic={}\n",
    "sp=[]\n",
    "fa=[]\n",
    "su=[]\n",
    "for i in range(n):\n",
    "    id=input()\n",
    "    if id[2]=='1':\n",
    "        sp.append(id)\n",
    "\n",
    "    elif id[2]=='2':\n",
    "        fa.append(id)\n",
    "        \n",
    "    elif id[2]=='3':\n",
    "        su.append(id)\n",
    "        \n",
    "dic['Spring']=sp\n",
    "dic['fall']=fa\n",
    "dic['Summer']=su\n",
    "print(dic)"
   ]
  },
  {
   "cell_type": "code",
   "execution_count": 8,
   "id": "ea6899dd",
   "metadata": {},
   "outputs": [
    {
     "name": "stdout",
     "output_type": "stream",
     "text": [
      "{'Spring': ['18101202', '20101457'], 'Fall': ['18204354', '20201999'], 'Summer': ['19303372']}\n"
     ]
    }
   ],
   "source": [
    "user =  ['18101202', '20101457', '18204354', '20201999', '19303372']\n",
    "a_dict = {}\n",
    "for i in user:\n",
    "    if i[2] =='1':\n",
    "        if \"Spring\" not in a_dict:\n",
    "            a_dict[\"Spring\"] = [i]\n",
    "        else:\n",
    "            a_dict[\"Spring\"].append(i)\n",
    "    elif i[2] == '2':\n",
    "        if \"Fall\" not in a_dict:\n",
    "            a_dict[\"Fall\"] = [i]\n",
    "        else:\n",
    "            a_dict[\"Fall\"].append(i)\n",
    "    elif i[2] == '3':\n",
    "        if \"Summer\" not in a_dict:\n",
    "            a_dict[\"Summer\"] = [i]\n",
    "        else:\n",
    "            a_dict[\"Summer\"].append(i)\n",
    "print(a_dict)"
   ]
  },
  {
   "cell_type": "code",
   "execution_count": 1,
   "id": "4358ae66",
   "metadata": {},
   "outputs": [
    {
     "ename": "KeyboardInterrupt",
     "evalue": "Interrupted by user",
     "output_type": "error",
     "traceback": [
      "\u001b[1;31m---------------------------------------------------------------------------\u001b[0m",
      "\u001b[1;31mKeyboardInterrupt\u001b[0m                         Traceback (most recent call last)",
      "\u001b[1;32m<ipython-input-1-135880e37854>\u001b[0m in \u001b[0;36m<module>\u001b[1;34m\u001b[0m\n\u001b[0;32m      2\u001b[0m \u001b[0mdic\u001b[0m\u001b[1;33m=\u001b[0m\u001b[1;33m{\u001b[0m\u001b[1;33m}\u001b[0m\u001b[1;33m\u001b[0m\u001b[1;33m\u001b[0m\u001b[0m\n\u001b[0;32m      3\u001b[0m \u001b[1;32mfor\u001b[0m \u001b[0mi\u001b[0m \u001b[1;32min\u001b[0m \u001b[0mrange\u001b[0m\u001b[1;33m(\u001b[0m\u001b[0mn\u001b[0m\u001b[1;33m)\u001b[0m\u001b[1;33m:\u001b[0m\u001b[1;33m\u001b[0m\u001b[1;33m\u001b[0m\u001b[0m\n\u001b[1;32m----> 4\u001b[1;33m     \u001b[0mid\u001b[0m\u001b[1;33m=\u001b[0m\u001b[0minput\u001b[0m\u001b[1;33m(\u001b[0m\u001b[1;33m)\u001b[0m\u001b[1;33m\u001b[0m\u001b[1;33m\u001b[0m\u001b[0m\n\u001b[0m\u001b[0;32m      5\u001b[0m     \u001b[1;32mif\u001b[0m \u001b[0mid\u001b[0m\u001b[1;33m[\u001b[0m\u001b[1;36m2\u001b[0m\u001b[1;33m]\u001b[0m\u001b[1;33m==\u001b[0m\u001b[1;34m'1'\u001b[0m\u001b[1;33m:\u001b[0m\u001b[1;33m\u001b[0m\u001b[1;33m\u001b[0m\u001b[0m\n\u001b[0;32m      6\u001b[0m         \u001b[1;32mif\u001b[0m \u001b[1;34m'Spring'\u001b[0m \u001b[1;32mnot\u001b[0m \u001b[1;32min\u001b[0m \u001b[0mdic\u001b[0m\u001b[1;33m:\u001b[0m\u001b[1;33m\u001b[0m\u001b[1;33m\u001b[0m\u001b[0m\n",
      "\u001b[1;32mC:\\ProgramData\\Anaconda3\\lib\\site-packages\\ipykernel\\kernelbase.py\u001b[0m in \u001b[0;36mraw_input\u001b[1;34m(self, prompt)\u001b[0m\n\u001b[0;32m    858\u001b[0m                 \u001b[1;34m\"raw_input was called, but this frontend does not support input requests.\"\u001b[0m\u001b[1;33m\u001b[0m\u001b[1;33m\u001b[0m\u001b[0m\n\u001b[0;32m    859\u001b[0m             )\n\u001b[1;32m--> 860\u001b[1;33m         return self._input_request(str(prompt),\n\u001b[0m\u001b[0;32m    861\u001b[0m             \u001b[0mself\u001b[0m\u001b[1;33m.\u001b[0m\u001b[0m_parent_ident\u001b[0m\u001b[1;33m,\u001b[0m\u001b[1;33m\u001b[0m\u001b[1;33m\u001b[0m\u001b[0m\n\u001b[0;32m    862\u001b[0m             \u001b[0mself\u001b[0m\u001b[1;33m.\u001b[0m\u001b[0m_parent_header\u001b[0m\u001b[1;33m,\u001b[0m\u001b[1;33m\u001b[0m\u001b[1;33m\u001b[0m\u001b[0m\n",
      "\u001b[1;32mC:\\ProgramData\\Anaconda3\\lib\\site-packages\\ipykernel\\kernelbase.py\u001b[0m in \u001b[0;36m_input_request\u001b[1;34m(self, prompt, ident, parent, password)\u001b[0m\n\u001b[0;32m    902\u001b[0m             \u001b[1;32mexcept\u001b[0m \u001b[0mKeyboardInterrupt\u001b[0m\u001b[1;33m:\u001b[0m\u001b[1;33m\u001b[0m\u001b[1;33m\u001b[0m\u001b[0m\n\u001b[0;32m    903\u001b[0m                 \u001b[1;31m# re-raise KeyboardInterrupt, to truncate traceback\u001b[0m\u001b[1;33m\u001b[0m\u001b[1;33m\u001b[0m\u001b[1;33m\u001b[0m\u001b[0m\n\u001b[1;32m--> 904\u001b[1;33m                 \u001b[1;32mraise\u001b[0m \u001b[0mKeyboardInterrupt\u001b[0m\u001b[1;33m(\u001b[0m\u001b[1;34m\"Interrupted by user\"\u001b[0m\u001b[1;33m)\u001b[0m \u001b[1;32mfrom\u001b[0m \u001b[1;32mNone\u001b[0m\u001b[1;33m\u001b[0m\u001b[1;33m\u001b[0m\u001b[0m\n\u001b[0m\u001b[0;32m    905\u001b[0m             \u001b[1;32mexcept\u001b[0m \u001b[0mException\u001b[0m \u001b[1;32mas\u001b[0m \u001b[0me\u001b[0m\u001b[1;33m:\u001b[0m\u001b[1;33m\u001b[0m\u001b[1;33m\u001b[0m\u001b[0m\n\u001b[0;32m    906\u001b[0m                 \u001b[0mself\u001b[0m\u001b[1;33m.\u001b[0m\u001b[0mlog\u001b[0m\u001b[1;33m.\u001b[0m\u001b[0mwarning\u001b[0m\u001b[1;33m(\u001b[0m\u001b[1;34m\"Invalid Message:\"\u001b[0m\u001b[1;33m,\u001b[0m \u001b[0mexc_info\u001b[0m\u001b[1;33m=\u001b[0m\u001b[1;32mTrue\u001b[0m\u001b[1;33m)\u001b[0m\u001b[1;33m\u001b[0m\u001b[1;33m\u001b[0m\u001b[0m\n",
      "\u001b[1;31mKeyboardInterrupt\u001b[0m: Interrupted by user"
     ]
    }
   ],
   "source": [
    "n=5\n",
    "dic={}\n",
    "for i in range(n):\n",
    "    id=input()\n",
    "    if id[2]=='1':\n",
    "        if 'Spring' not in dic:\n",
    "            dic['Spring']=[id]\n",
    "        else:\n",
    "            dic['Spring'].append(id)\n",
    "\n",
    "    elif id[2]=='2':\n",
    "        if 'Fall' not in dic:\n",
    "            dic['Fall']=[id]\n",
    "        else:\n",
    "            dic['Fall'].append(id)\n",
    "        \n",
    "    elif id[2]=='3':\n",
    "        if 'Summer' not in dic:\n",
    "            dic['Summer']=[id]\n",
    "        else:\n",
    "            dic['Summer'].append(id)\n",
    "        \n",
    "print(dic)"
   ]
  }
 ],
 "metadata": {
  "kernelspec": {
   "display_name": "Python 3",
   "language": "python",
   "name": "python3"
  },
  "language_info": {
   "codemirror_mode": {
    "name": "ipython",
    "version": 3
   },
   "file_extension": ".py",
   "mimetype": "text/x-python",
   "name": "python",
   "nbconvert_exporter": "python",
   "pygments_lexer": "ipython3",
   "version": "3.8.8"
  }
 },
 "nbformat": 4,
 "nbformat_minor": 5
}
