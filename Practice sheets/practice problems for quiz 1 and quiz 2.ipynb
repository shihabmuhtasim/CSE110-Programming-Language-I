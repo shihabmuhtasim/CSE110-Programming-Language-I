{
 "cells": [
  {
   "cell_type": "code",
   "execution_count": null,
   "id": "cf9351a2",
   "metadata": {},
   "outputs": [],
   "source": [
    "#1\n",
    "N= int(input(\"Please enter seconds:\"))\n",
    "word_1= \"Knock!\"\n",
    "word_2= \"Penny!\"\n",
    "store= \"\"\n",
    "for i in range(1,N+1):\n",
    "    if i%4==0:\n",
    "        store+=word_2\n",
    "    else:\n",
    "        store+=word_1\n",
    "print(store)               #16 mins"
   ]
  },
  {
   "cell_type": "code",
   "execution_count": 6,
   "id": "34eb695e",
   "metadata": {},
   "outputs": [
    {
     "name": "stdout",
     "output_type": "stream",
     "text": [
      "['I', 'B', 'C', 'D', 'E', 'F', 'G', 'H', 'A']\n"
     ]
    }
   ],
   "source": [
    "list=['A', 'B', 'C', 'D', 'E', 'F', 'G', 'H',\"I\"]\n",
    "step=5\n",
    "for i in range(0,len(list)//2,step):\n",
    "    temp=list[i]\n",
    "    list[i]=list[-i-1]\n",
    "    list[-i-1]=temp\n",
    "print(list)\n",
    "    "
   ]
  },
  {
   "cell_type": "code",
   "execution_count": null,
   "id": "cd75e807",
   "metadata": {},
   "outputs": [],
   "source": [
    "#3\n",
    "num= input(\"Enter number:\")\n",
    "if len(num)%2==0:\n",
    "    store=num\n",
    "else:\n",
    "    store= num[0:len(num)//2]+ num[len(num)//2+1:len(num)+1]\n",
    "first=0\n",
    "second=0\n",
    "for i in range(0,len(store)//2):\n",
    "    first+=int(num[i])\n",
    "for i in range(len(store)//2,len(store)):\n",
    "    second+=int(num[i])\n",
    "if first==second:\n",
    "    print(\"yes\")\n",
    "else:\n",
    "    print(\"No\")  "
   ]
  },
  {
   "cell_type": "code",
   "execution_count": 2,
   "id": "8e7047e2",
   "metadata": {},
   "outputs": [
    {
     "name": "stdout",
     "output_type": "stream",
     "text": [
      "False\n"
     ]
    }
   ],
   "source": [
    "#4\n",
    "number= \"3152789\"\n",
    "\n",
    "flag= None\n",
    "if len(number)<2:\n",
    "    flag= False\n",
    "else:\n",
    "    for i in range(len(number)-1):\n",
    "        if int(number[i])<int(number[i+1]):\n",
    "            flag= True\n",
    "        else:\n",
    "            flag=False\n",
    "            break \n",
    "print(flag)            "
   ]
  },
  {
   "cell_type": "code",
   "execution_count": null,
   "id": "b0a8d860",
   "metadata": {},
   "outputs": [],
   "source": [
    "#4 alrernative without str/list\n",
    "num= int(input(\"please enter a number:\"))\n",
    "store=num \n",
    "count=0 \n",
    "while num>0: \n",
    "    num=num//10 \n",
    "    count+=1 \n",
    "print(\"count\",count)\n",
    "devider= 10**(count-1)\n",
    "check= store//devider\n",
    "store=store%devider\n",
    "devider=devider//10\n",
    "flag=None\n",
    "while store>0:\n",
    "    digit=store//devider\n",
    "    store= store%devider\n",
    "    devider= devider//10\n",
    "    if check>digit: \n",
    "        flag=\"not blissful\"\n",
    "        break\n",
    "    else:\n",
    "        flag=\"blissful\"\n",
    "    check=digit\n",
    "print(\"flag\", flag)    "
   ]
  },
  {
   "cell_type": "code",
   "execution_count": null,
   "id": "7234020b",
   "metadata": {},
   "outputs": [],
   "source": [
    "#5\n",
    "n= int(input(\"value of n:\"))\n",
    "add=-3\n",
    "check=3\n",
    "for i in range(1,n):#0 1 2 3 4 5 6 7\n",
    "    check=check+2     #3+2=5\n",
    "    if i%2!=0:          #odd\n",
    "        add=add-check\n",
    "    else:\n",
    "        add+=check\n",
    "print(\"add\",add)"
   ]
  },
  {
   "cell_type": "code",
   "execution_count": 2,
   "id": "60d6af66",
   "metadata": {},
   "outputs": [
    {
     "name": "stdout",
     "output_type": "stream",
     "text": [
      "value of n:2\n",
      "add 2\n"
     ]
    }
   ],
   "source": [
    "#5\n",
    "n= int(input(\"value of n:\"))\n",
    "add=-3\n",
    "check=3\n",
    "for i in range(1,n):       #  0 1 2 3 4 5 6 7\n",
    "    check=check+2         # 3+2=5\n",
    "    if i%2==0:           #odd\n",
    "        add=add-check\n",
    "    else:\n",
    "        add+=check\n",
    "print(\"add\",add)"
   ]
  },
  {
   "cell_type": "code",
   "execution_count": null,
   "id": "5cbbead7",
   "metadata": {},
   "outputs": [],
   "source": [
    "#6                          \n",
    "n=int(input(\"value of n:\"))\n",
    "for i in range(n):\n",
    "    id=input(\"enter your id:\")\n",
    "    count=0\n",
    "    for e in range(len(id)):\n",
    "        count+=int(id[e])\n",
    "    if 5<=count<=10:\n",
    "        print(\"Ciao\")\n",
    "    elif 11<=count<=15:\n",
    "        print(\"Hello\")\n",
    "    elif 20<=count<=25:\n",
    "        print(\"Hola\")\n",
    "    elif 30<=count<=35:\n",
    "        print(\"Sault\")\n",
    "    else:\n",
    "        print(\"bye bye\")"
   ]
  },
  {
   "cell_type": "code",
   "execution_count": null,
   "id": "a1876cc2",
   "metadata": {},
   "outputs": [],
   "source": [
    "#6 not using string/list\n",
    "n=int(input(\"value of n:\"))\n",
    "for i in range(n):\n",
    "    id=int(input(\"enter your id:\"))\n",
    "    store=id\n",
    "    count_dig=0\n",
    "    while id>0:\n",
    "        id=id//10\n",
    "        count_dig+=1 \n",
    "    devider= 10**(count_dig-1)\n",
    "    count=0\n",
    "    while store>0:\n",
    "        dig=store//devider\n",
    "        store= store%devider\n",
    "        devider=devider//10\n",
    "        count+=dig\n",
    "    if 5<=count<=10:\n",
    "        print(\"Ciao\")\n",
    "    elif 11<=count<=15:\n",
    "        print(\"Hello\")\n",
    "    elif 20<=count<=25:\n",
    "        print(\"Hola\")\n",
    "    elif 30<=count<=35:\n",
    "        print(\"Sault\")\n",
    "    else:\n",
    "        print(\"bye bye\")     \n"
   ]
  },
  {
   "cell_type": "code",
   "execution_count": 12,
   "id": "cefce5aa",
   "metadata": {},
   "outputs": [
    {
     "name": "stdout",
     "output_type": "stream",
     "text": [
      "input your string of alphabet and digits:m4gt567q09y2\n",
      "['4', '5', '6', '7', '0', '9', '2']\n",
      "['m', 'g', 't', 'q', 'y']\n",
      "['4', '5', '6', '0', '7', '2', '9']\n"
     ]
    }
   ],
   "source": [
    "#8 baki kora\n",
    "string= input(\"input your string of alphabet and digits:\")\n",
    "digit=[]\n",
    "alpha=[]\n",
    "for i in string:\n",
    "    if (ord(\"a\") <= ord(i) <= ord(\"z\")):\n",
    "        alpha.append(i)\n",
    "    elif (ord(\"0\") <= ord(i) <= ord(\"9\")):\n",
    "        digit.append(i)\n",
    "    else:\n",
    "        None\n",
    "print(digit)\n",
    "print(alpha)\n",
    "if len(alpha)==0:\n",
    "    print(\"There is no alphabet\")\n",
    "elif len(digit)==0:\n",
    "    print(\"There is no digit\")\n",
    "else:\n",
    "    for i in range(len(digit)-1): #[1,3,2,4,5]\n",
    "        if int(digit[i])>int(digit[i+1]):\n",
    "            temp=digit[i]\n",
    "            digit[i]=digit[i+1]\n",
    "            digit[i+1]=temp\n",
    "        else:\n",
    "            None\n",
    "            \n",
    "            \n",
    "            \n",
    "print(digit)"
   ]
  },
  {
   "cell_type": "code",
   "execution_count": null,
   "id": "16e83fe7",
   "metadata": {},
   "outputs": [],
   "source": [
    "string= input(\"input your string of alphabet and digits:\")\n",
    "for i in string: #abcds2d\n",
    "    if not(ord(\"a\") <= ord(i) <= ord(\"z\")):\n",
    "        print(\"no alphabet\")\n",
    "    elif not(ord(\"0\") <= ord(i) <= ord(\"9\")):\n",
    "        print(\"no digit\")\n",
    "    else:\n",
    "        print(\"ok\")"
   ]
  },
  {
   "cell_type": "code",
   "execution_count": null,
   "id": "49b92c11",
   "metadata": {},
   "outputs": [],
   "source": [
    "string= input(\"input your string of alphabet and digits:\")\n",
    "list=[]\n",
    "for i in string: \n",
    "    if (ord(\"0\") <= ord(i) <= ord(\"9\")):\n",
    "        list.append(i)\n",
    "    else:\n",
    "        None\n",
    "sort=[]\n",
    "for i in range(len(list)):\n",
    "    if int(list[i])<int(list[i+1]):\n",
    "        sort.append(i)\n",
    "print(list)"
   ]
  },
  {
   "cell_type": "code",
   "execution_count": null,
   "id": "75ad9ac6",
   "metadata": {},
   "outputs": [],
   "source": [
    "#9\n",
    "word= input(\"your sentence:\").split()\n",
    "print(word)\n",
    "final=''\n",
    "for i in word:\n",
    "    i=i[-1::-1]\n",
    "    final+=i\n",
    "    final+=\" \"\n",
    "print(final)"
   ]
  },
  {
   "cell_type": "code",
   "execution_count": null,
   "id": "6acf96ea",
   "metadata": {},
   "outputs": [],
   "source": [
    "#10\n",
    "start=25\n",
    "end=30\n",
    "check=4\n",
    "for i in range(start,end+1):\n",
    "    pro=1\n",
    "    while i>0:\n",
    "        pro*=i%10\n",
    "        i=i//10\n",
    "    if pro%check==0:\n",
    "        print(pro)"
   ]
  },
  {
   "cell_type": "code",
   "execution_count": null,
   "id": "fda95339",
   "metadata": {},
   "outputs": [],
   "source": [
    "#10\n",
    "start=351\n",
    "end=356\n",
    "check=9\n",
    "for i in range(start,end+1):\n",
    "    store=str(i)\n",
    "    product=1\n",
    "    for j in store:\n",
    "        product*=int(j)\n",
    "   \n",
    "    if product%check==0:\n",
    "        print(product,\"\",end=\"\")"
   ]
  },
  {
   "cell_type": "code",
   "execution_count": null,
   "id": "2ecb8a79",
   "metadata": {},
   "outputs": [],
   "source": [
    "#11\n",
    "string=input(\"sentence:\")\n",
    "list=string.split()\n",
    "final=[]\n",
    "for w in list: #the\n",
    "    sum=0\n",
    "    for l in w:# t \n",
    "        sum+=ord(l)\n",
    "    if sum%2==0:\n",
    "        final.append(w)\n",
    "    else:\n",
    "        None\n",
    "print(final)        "
   ]
  },
  {
   "cell_type": "code",
   "execution_count": null,
   "id": "6c27981a",
   "metadata": {},
   "outputs": [],
   "source": [
    "#12\n",
    "n=5\n",
    "valid=0\n",
    "valid_count=0\n",
    "invalid=0\n",
    "invalid_count=0\n",
    "for i in range(n):\n",
    "    number= int(input(\"input number:\"))\n",
    "    if 0<=number<=100:\n",
    "        valid+=number\n",
    "        valid_count+=1\n",
    "    else:\n",
    "        invalid+=number\n",
    "        invalid_count+=1\n",
    "valid_avg= valid/valid_count\n",
    "invalid_per= (invalid_count/n)*100\n",
    "print(\"valid_avg\",valid_avg)\n",
    "print(\"invalid_per\",invalid_per)"
   ]
  },
  {
   "cell_type": "code",
   "execution_count": null,
   "id": "1ea516fc",
   "metadata": {},
   "outputs": [],
   "source": [
    "#13\n",
    "word=input(\"word:\") \n",
    "start= int(input(\"start number:\")) \n",
    "end= int(input(\"end number:\"))\n",
    "if len(word)<=end:\n",
    "    print(\"invalid\")\n",
    "else:\n",
    "    store=''\n",
    "    for i in word:\n",
    "        store+=chr(ord(i)+2)\n",
    "    print(store[start:end+1])"
   ]
  },
  {
   "cell_type": "code",
   "execution_count": 1,
   "id": "de658b54",
   "metadata": {},
   "outputs": [
    {
     "name": "stdout",
     "output_type": "stream",
     "text": [
      "string:asdjfkd\n",
      "Number of vowels: 1\n",
      "List of vowels: ['a']\n",
      "Number of consonents: 6\n",
      "List of consonents: ['s', 'd', 'j', 'f', 'k']\n",
      "ratio is 1 : 6\n"
     ]
    }
   ],
   "source": [
    "#images 1\n",
    "string= input(\"string:\")\n",
    "vowel_s=\"a e i o u\"\n",
    "vowel_C=\"A E I O U\"\n",
    "list_con=[]\n",
    "list_v=[]\n",
    "for i in string:\n",
    "    if (ord(\"a\")<=ord(i)<=ord(\"z\")) or (ord(\"A\")<=ord(i)<=ord(\"Z\")):\n",
    "        if (i in vowel_s) or (i in vowel_C):\n",
    "            list_v.append(i)\n",
    "        else:\n",
    "            list_con.append(i)\n",
    "    else:\n",
    "        None\n",
    "num_vowel=len(list_v)\n",
    "num_consonent=len(list_con)\n",
    "str_v=''\n",
    "for i in list_v:\n",
    "    str_v+=i\n",
    "    \n",
    "str_c=''\n",
    "for i in list_con:\n",
    "    str_c+=i\n",
    "    \n",
    "str_v_l=str_v.lower()\n",
    "str_c_l=str_c.lower()\n",
    "final_vowel=[]\n",
    "\n",
    "for i in str_v_l:\n",
    "    if i not in final_vowel:\n",
    "        final_vowel.append(i)\n",
    "    else:\n",
    "        None\n",
    "final_con=[]        \n",
    "for i in str_c_l:\n",
    "    if i not in final_con:\n",
    "        final_con.append(i)\n",
    "    else:\n",
    "        None\n",
    "print(\"Number of vowels:\",num_vowel)\n",
    "print(\"List of vowels:\",final_vowel)\n",
    "print(\"Number of consonents:\",num_consonent)\n",
    "print(\"List of consonents:\",final_con)\n",
    "print(\"ratio is\",num_vowel,\":\",num_consonent)"
   ]
  },
  {
   "cell_type": "code",
   "execution_count": null,
   "id": "106d4553",
   "metadata": {},
   "outputs": [],
   "source": [
    "#images 2\n",
    "string=\"python\"\n",
    "new=\"\"\n",
    "for i in range(len(string)):\n",
    "    if ord(string[i])%2==0:\n",
    "        if string[i]==string[0]:\n",
    "            new+=\"1\"\n",
    "        else:\n",
    "            new+=string[i-1]\n",
    "    else:\n",
    "        new+=string[i]\n",
    "print(new) "
   ]
  },
  {
   "cell_type": "code",
   "execution_count": null,
   "id": "022f3f2d",
   "metadata": {},
   "outputs": [],
   "source": [
    "#image 3\n",
    "start=50\n",
    "end=60\n",
    "for i in range(start,end+1):\n",
    "    if i%10==1 or i%10==2 or i%10==7:\n",
    "        if i%3==0:\n",
    "            print(i, \"is a multiple of 3\")\n",
    "            print(i,\"ends with\", i%10)\n",
    "            print(\"----------------\")"
   ]
  }
 ],
 "metadata": {
  "kernelspec": {
   "display_name": "Python 3",
   "language": "python",
   "name": "python3"
  },
  "language_info": {
   "codemirror_mode": {
    "name": "ipython",
    "version": 3
   },
   "file_extension": ".py",
   "mimetype": "text/x-python",
   "name": "python",
   "nbconvert_exporter": "python",
   "pygments_lexer": "ipython3",
   "version": "3.8.8"
  }
 },
 "nbformat": 4,
 "nbformat_minor": 5
}
