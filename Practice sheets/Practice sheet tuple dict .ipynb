{
 "cells": [
  {
   "cell_type": "markdown",
   "id": "fad0f68b",
   "metadata": {},
   "source": [
    "# DICTONARY\n",
    "1.\n",
    "Suppose dictionaries are given .\n",
    "Write a Python program that combines two or more dictionaries, creates a list of values for each key.\n",
    "Sample Input:\n",
    "Original dictionaries:\n",
    "{'w': 50, 'x': 100, 'y': 'Green', 'z': 400}\n",
    "{'x': 300, 'y': 'Red', 'z': 600}\n",
    "Sample Output:\n",
    "{'w': [50], 'x': [100, 300], 'y': ['Green', 'Red'], 'z': [400, 600]}"
   ]
  },
  {
   "cell_type": "code",
   "execution_count": 2,
   "id": "d69a5ad2",
   "metadata": {},
   "outputs": [
    {
     "name": "stdout",
     "output_type": "stream",
     "text": [
      "{'w': [50], 'x': [100, 300], 'y': ['Green', 'Red'], 'z': [400, 600]}\n"
     ]
    }
   ],
   "source": [
    "a={'w': 50, 'x': 100, 'y': 'Green', 'z': 400}\n",
    "b={'x': 300, 'y': 'Red', 'z': 600}\n",
    "new={}\n",
    "for key,val in a.items():\n",
    "    if key not in new:\n",
    "        new[key]=[val]\n",
    "    else:\n",
    "        new[key].append(val)\n",
    "for key,val in b.items():\n",
    "    if key not in new:\n",
    "        new[key]=[val]\n",
    "    else:\n",
    "        new[key].append(val)\n",
    "print(new)        "
   ]
  },
  {
   "cell_type": "markdown",
   "id": "7bddab61",
   "metadata": {},
   "source": [
    "Suppose,there will be a dictionary named dict_1.The values of the dictionary will be a list or a tuple. \n",
    "Here, in a key value pair, the key will be a lower case letter if the  value is a list . \n",
    "And if the value is a tuple,then the key will be an uppercase letter.\n",
    "\n",
    "Write a Python program that creates a new dictionary named “dict_primes” which\n",
    "contains only prime numbers in the value.And print the dictionary dict_primes.\n",
    "\n",
    "Sample Input 1:\n",
    "dict_1 = {\"a\":[5,2,55,17],\"P\":(11,121,222),\"B\":(37,53,71),\"c\":[45,92,50]}\n",
    "Sample Output 1 :\n",
    "dict_primes = {'a': [5, 2, 17], 'P': (11,), 'B': (37, 53, 71), 'c': []}\n",
    "\n",
    "Sample Input 2:\n",
    "dict_1 = {\"N\":(4,9,3),\"k\":[95,37,197],\"F\":(32,5,97),\"s\":[31,94,55]}\n",
    "Sample Output 2 :\n",
    "dict_primes = {'N': (3,), 'k': [37, 197], 'F': (5, 97), 's': [31]}"
   ]
  },
  {
   "cell_type": "code",
   "execution_count": 17,
   "id": "2b6267a2",
   "metadata": {},
   "outputs": [
    {
     "name": "stdout",
     "output_type": "stream",
     "text": [
      "{'a': [5, 2, 17], 'P': (11,), 'B': (37, 53, 71), 'c': []}\n"
     ]
    }
   ],
   "source": [
    "dict_1={\"a\":[5,2,55,17],\"P\":(11,121,222),\"B\":(37,53,71),\"c\":[45,92,50]}\n",
    "dict_primes={}\n",
    "for key,val in dict_1.items():\n",
    "    if ord(\"a\")<=ord(key)<=ord(\"z\"):\n",
    "        list=[]\n",
    "        for num in val:\n",
    "            flag=True\n",
    "            if num==2:\n",
    "                flag=False\n",
    "            elif num>1:\n",
    "                for j in range(2,num):\n",
    "                    if num%j!=0:\n",
    "                        flag=False\n",
    "                    else:\n",
    "                        flag=True\n",
    "                        break\n",
    "            if flag==False:\n",
    "                list.append(num)\n",
    "        dict_primes[key]=list\n",
    "    \n",
    "    elif ord(\"A\")<=ord(key)<=ord(\"Z\"):\n",
    "        new=[]\n",
    "        for num in val:\n",
    "            flag=True\n",
    "            if num==2:\n",
    "                flag=False\n",
    "            elif num>1:\n",
    "                for j in range(2,num):\n",
    "                    if num%j!=0:\n",
    "                        flag=False\n",
    "                    else:\n",
    "                        flag=True\n",
    "                        break\n",
    "            if flag==False:\n",
    "                new.append(num)\n",
    "        dict_primes[key]=tuple(new)        \n",
    "print(dict_primes)                                            "
   ]
  },
  {
   "cell_type": "markdown",
   "id": "7814d44e",
   "metadata": {},
   "source": [
    "An Agent has three normal skills along with an ultimate skill. Furthermore, there are\n",
    "three agents in the game named after Rage , Jett and Sage .\n",
    "Now, write a Python program that will detect the Agent from a given dictionary where the keys are \"Normal\n",
    "Skills\", \"Ultimate Skill\" and the values are the damages due to the use of the skills on the\n",
    "opponents.\n",
    "Additive Damage Score: SUM_TOTAL(NORMAL_SKILL_DAMAGE,\n",
    "ULTIMATE_SKILL_DAMAGE)\n",
    "Constraints:\n",
    "1. If the additive damage score is less than or equal to 70 then it is Rage .\n",
    "2. Else If the additive damage score is less than or equal to 100 then it is Jett .\n",
    "3. Else it is Sage .\n",
    "Sample Input\n",
    "Assume a dictionary,\n",
    "d = { \"Normal Skills\":[10,15,20], \"Ultimate Skill\":50 }\n",
    "Sample Output\n",
    "Jett"
   ]
  },
  {
   "cell_type": "code",
   "execution_count": 33,
   "id": "c27feee7",
   "metadata": {},
   "outputs": [
    {
     "name": "stdout",
     "output_type": "stream",
     "text": [
      "Jett\n"
     ]
    }
   ],
   "source": [
    "d={\"Normal Skills\":[10,15,20],\"Ultimate Skill\":50}\n",
    "sum=0\n",
    "for i in d[\"Normal Skills\"]:\n",
    "    sum+=i\n",
    "sum+=d[\"Ultimate Skill\"]\n",
    "if sum<=70:\n",
    "    print(\"Rage\")\n",
    "elif sum<=100:\n",
    "    print(\"Jett\")\n",
    "else:\n",
    "    print(\"sage\")"
   ]
  },
  {
   "cell_type": "markdown",
   "id": "4432403c",
   "metadata": {},
   "source": [
    "# TUPLE PROBLEMS\n"
   ]
  },
  {
   "cell_type": "markdown",
   "id": "116a87fb",
   "metadata": {},
   "source": [
    "1. A number is a magic number if the summation of even indexed digits is equal to the\n",
    "summation of odd indexed digits.\n",
    "\n",
    "Now, write a Python program that will take a number N in the very first line from the\n",
    "user, then take N number of test cases in the next N lines.\n",
    "\n",
    "The program should print a tuple containing two sub-tuples,\n",
    "\n",
    "where the first sub-tuple will hold the magic numbers and \n",
    "\n",
    "the second sub-tuple will hold the non-magic numbers.\n",
    "\n",
    "**Sample Input**\n",
    "\n",
    "5\n",
    "\n",
    "1232\n",
    "\n",
    "4455\n",
    "\n",
    "1234\n",
    "\n",
    "9876\n",
    "\n",
    "1111\n",
    "\n",
    "**Sample Output**\n",
    "((1232,4455,1111),(1234,9876))"
   ]
  },
  {
   "cell_type": "code",
   "execution_count": 37,
   "id": "1eecfa71",
   "metadata": {},
   "outputs": [
    {
     "name": "stdout",
     "output_type": "stream",
     "text": [
      "((1232, 4455, 1111), (1234, 9876))\n"
     ]
    }
   ],
   "source": [
    "start=\"5,1232,4455,1234,9876,1111\".split(\",\")\n",
    "magic=[]\n",
    "non=[]\n",
    "for num in start:\n",
    "    if len(num)>1:\n",
    "        even=0\n",
    "        odd=0\n",
    "        for i in range(len(num)):\n",
    "            if i%2==0:\n",
    "                even+=int(num[i])\n",
    "            else:\n",
    "                odd+=int(num[i])\n",
    "        if even==odd:\n",
    "            magic.append(int(num))\n",
    "        else:\n",
    "            non.append(int(num))\n",
    "new=(tuple(magic),tuple(non)  )\n",
    "print(new)"
   ]
  },
  {
   "cell_type": "markdown",
   "id": "c129d70a",
   "metadata": {},
   "source": [
    "2. Write a Python program that takes a tuple of tuples. Calculate the average value of the\n",
    "\n",
    "numbers for each tuple of tuples and find the tuple whose sum is the maximum.\n",
    "\n",
    "[Try to avoid built in functions]\n",
    "\n",
    "**Sample Input:**\n",
    "\n",
    "((33, 22, 11), (30, 45, 56, 45,20), (81, 90, 39, 45), (1, 2, 3, 4,5,6))\n",
    "\n",
    "Sample Output:\n",
    "\n",
    "Average : [22.0, 39.2, 63.75, 3.5]\n",
    "\n",
    "Tuple with maximum sum : (81, 90, 39, 45)"
   ]
  },
  {
   "cell_type": "code",
   "execution_count": 66,
   "id": "6e4807a4",
   "metadata": {},
   "outputs": [
    {
     "name": "stdout",
     "output_type": "stream",
     "text": [
      "how many tuples:2\n",
      "enter num seperate by comma:22,3\n",
      "enter num seperate by comma:34,5\n",
      "((22, 3), (34, 5))\n"
     ]
    }
   ],
   "source": [
    "num=int(input(\"how many tuples:\"))\n",
    "process=[]\n",
    "for i in range(num):\n",
    "    tup_list=(input(\"enter num seperate by comma:\")).split(\",\")\n",
    "    new_tup_list=[]\n",
    "    for n in tup_list:\n",
    "        new_tup_list.append(int(n)) \n",
    "    tup=tuple(new_tup_list)\n",
    "    process.append(tup)\n",
    "final=tuple(process)\n",
    "print(final)"
   ]
  },
  {
   "cell_type": "markdown",
   "id": "f4decac4",
   "metadata": {},
   "source": [
    "3. We all know that the additive primaries are red, green, and blue.\n",
    "\n",
    "**Now, write a Python program that will take a color sequence as a string from the user**\n",
    "\n",
    "**where R represents Red , G represents Green and B represents Blue**\n",
    "\n",
    "The programshould print the choice of colors that is actually a tuple containing the \n",
    "sub-tuples as (color_name, color_frequency) if the color_frequency for that color is \n",
    "at least one in thegiven color sequence.\n",
    "\n",
    "**Sample Input**\n",
    "\n",
    "RGBRRGBBR\n",
    "\n",
    "**Sample Output**\n",
    "\n",
    "((′Red′,4),(′Green′,2),(′Blue′,3))"
   ]
  },
  {
   "cell_type": "code",
   "execution_count": 47,
   "id": "6761ef2b",
   "metadata": {},
   "outputs": [
    {
     "name": "stdout",
     "output_type": "stream",
     "text": [
      "(('red', 4), ('green', 2), ('blue', 3))\n"
     ]
    }
   ],
   "source": [
    "user=\"RGBRRGBBR\"\n",
    "values=\"RGB\"\n",
    "list=[['red'],['green'],['blue']]\n",
    "for i in range(3):\n",
    "    val=user.count(values[i])\n",
    "    if val>0:\n",
    "        list[i].append(val) \n",
    "new=(tuple(list[0]),tuple(list[1]),tuple(list[2]))\n",
    "print(new)  "
   ]
  },
  {
   "cell_type": "code",
   "execution_count": null,
   "id": "8b1751a6",
   "metadata": {},
   "outputs": [],
   "source": []
  }
 ],
 "metadata": {
  "kernelspec": {
   "display_name": "Python 3",
   "language": "python",
   "name": "python3"
  },
  "language_info": {
   "codemirror_mode": {
    "name": "ipython",
    "version": 3
   },
   "file_extension": ".py",
   "mimetype": "text/x-python",
   "name": "python",
   "nbconvert_exporter": "python",
   "pygments_lexer": "ipython3",
   "version": "3.8.8"
  }
 },
 "nbformat": 4,
 "nbformat_minor": 5
}
