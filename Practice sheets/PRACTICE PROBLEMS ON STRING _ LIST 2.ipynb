{
 "cells": [
  {
   "cell_type": "markdown",
   "metadata": {},
   "source": [
    "# PRACTICE PROBLEMS ON STRING & LIST\n",
    "\n",
    "\n",
    "**<font color='red'>[MUST MAINTAIN VARIABLE NAMING CONVENTIONS FOR ALL THE TASKS]</font>**\n",
    "**<font color='red'>[Solve all the tasks sequentially]</font>**\n"
   ]
  },
  {
   "cell_type": "markdown",
   "metadata": {},
   "source": [
    "### Task 1\n",
    "Write a python program that will take a number as an input and check whether the number is Awesome or not. If the number is Awesome, it prints True. Otherwise False.\n",
    "\n",
    "**Awesome number**: a number where every digit is less than its immediate left digit is called an Awesome number. A single-digit number cannot be an awesome number(e.g. 5421 is an Awesome number.)\n",
    "\n",
    "==========================================================\n",
    "\n",
    "**Sample Input1:**\\\n",
    "976321\\\n",
    "**Sample Output1:**\\\n",
    "True\n",
    "\n",
    "==========================================================\n",
    "\n",
    "**Sample Input2:**\\\n",
    "9766321\\\n",
    "**Sample Output2:**\\\n",
    "False\n",
    "\n",
    "==========================================================\n",
    "\n",
    "**Sample Input3:**\\\n",
    "9\\\n",
    "**Sample Output3:**\\\n",
    "False\n",
    "\n",
    "==========================================================\n",
    "\n",
    "**Sample Input4:**\\\n",
    "78\\\n",
    "**Sample Output4:**\\\n",
    "False\n",
    "\n",
    "==========================================================\n",
    "\n",
    "**Sample Input5:**\\\n",
    "87\\\n",
    "**Sample Output4:**\\\n",
    "True\n"
   ]
  },
  {
   "cell_type": "code",
   "execution_count": 21,
   "metadata": {},
   "outputs": [
    {
     "name": "stdout",
     "output_type": "stream",
     "text": [
      "no no\n"
     ]
    }
   ],
   "source": [
    "num=\"7\"\n",
    "flag=True\n",
    "if len(num)<2:\n",
    "    flag=False\n",
    "else:\n",
    "    for i in range(len(num)-1,0,-1):\n",
    "        if int(num[i])<int(num[i-1]):\n",
    "            flag=True\n",
    "        else:\n",
    "            flag=False\n",
    "            break\n",
    "if flag==True:\n",
    "    print(\"awesome\")\n",
    "else:\n",
    "    print(\"no no\")"
   ]
  },
  {
   "cell_type": "markdown",
   "metadata": {},
   "source": [
    "### Task 2\n",
    "\n",
    "Write a python program that will take a number a list of numbers(integer) as an input from the user and print whether the number is Awesome or not. \n",
    "\n",
    "==========================================================\n",
    "\n",
    "**Sample Input1:**\\\n",
    "[976321, 321, 9763221, 9742, 876, 3211]\\\n",
    "**Sample Output1:**\\\n",
    "976321 is an awesome number.\\\n",
    "321 is an awesome number.\\\n",
    "9763221 is a not-so-awesome number.\\\n",
    "9742 is an awesome number.\\\n",
    "876 is an awesome number.\\\n",
    "3211 is a not-so-awesome number.\n",
    "\n",
    "==========================================================\n",
    "\n",
    "**Sample Input2:**\\\n",
    "[97821, 97210, 979210]\\\n",
    "**Sample Output2:**\\\n",
    "97821 is a not-so-awesome number.\\\n",
    "97210 is an awesome number.\\\n",
    "979210 is a not-so-awesome number.\n"
   ]
  },
  {
   "cell_type": "code",
   "execution_count": 2,
   "metadata": {},
   "outputs": [
    {
     "name": "stdout",
     "output_type": "stream",
     "text": [
      "awesome\n",
      "awesome\n",
      "no no\n",
      "awesome\n",
      "awesome\n",
      "no no\n"
     ]
    }
   ],
   "source": [
    "numbers= [976321, 321, 9763221, 9742, 876, 3211]\n",
    "for num in numbers:\n",
    "    flag=True\n",
    "    store= str(num)\n",
    "    if len(store)<2:\n",
    "        flag=False\n",
    "    else:\n",
    "        for i in range(len(store)-1,0,-1):\n",
    "            if int(store[i])<int(store[i-1]):\n",
    "                flag=True\n",
    "            else:\n",
    "                flag=False\n",
    "                break\n",
    "    if flag==True:\n",
    "        print(\"awesome\")\n",
    "    else:\n",
    "        print(\"no no\")"
   ]
  },
  {
   "cell_type": "markdown",
   "metadata": {},
   "source": [
    "### Task 3\n",
    "\n",
    "\n",
    "Write a python program that will take a string as input from the user where each number is separated by a comma. Then gets the numbers from the given string and removes all extra spaces. Stores the clean numbers in a list and prints it.\n",
    "\n",
    "**Hints:** For obtaining the numbers from the string, use split(). For cleaning the data, use strip().\n",
    "\n",
    "==========================================================\n",
    "\n",
    "**Sample Input1:**\\\n",
    "\"97821, 1 &nbsp;&nbsp;&nbsp;  , 97210,&nbsp;&nbsp; 963, &nbsp;&nbsp;&nbsp;979210 , 979210 \"\\\n",
    "**Sample Output1:**\\\n",
    "Data after cleaning: [97821, 1, 97210, 963, 979210, 979210]\\\n",
    "\n",
    "==========================================================\n",
    "\n",
    "**Sample Input2:**\\\n",
    "\"976321, 321&nbsp;&nbsp;,&nbsp;&nbsp;&nbsp;9763221, &nbsp;&nbsp;&nbsp;9742, 876,&nbsp;&nbsp;&nbsp;&nbsp;&nbsp;&nbsp;&nbsp; 3211\"\\\n",
    "**Sample Output2:**\\\n",
    "Data after cleaning: [976321, 321, 9763221, 9742, 876, 3211]\n",
    "\n",
    "==========================================================\n",
    "\n",
    "**Sample Input3:**\\\n",
    "\"976321, 321 ,&nbsp;&nbsp;&nbsp; 9763221, 9742, &nbsp;&nbsp;&nbsp;&nbsp;&nbsp;876, &nbsp;&nbsp;&nbsp;&nbsp;&nbsp;&nbsp;3211, 976321&nbsp;&nbsp;&nbsp;&nbsp;, 9742\"\\\n",
    "**Sample Output3:**\\\n",
    "Data after cleaning: [976321, 321, 9763221, 9742, 876, 3211, 976321, 9742]\n"
   ]
  },
  {
   "cell_type": "code",
   "execution_count": 5,
   "metadata": {},
   "outputs": [
    {
     "name": "stdout",
     "output_type": "stream",
     "text": [
      "[97821, 1, 97210, 963, 979210, 979210]\n"
     ]
    }
   ],
   "source": [
    "nums=\"97821, 1     , 97210,   963,    979210 , 979210\".split(\",\")\n",
    "li=[]\n",
    "for i in nums:\n",
    "    num=i.strip()\n",
    "    li.append(int(num))\n",
    "print(li)"
   ]
  },
  {
   "cell_type": "markdown",
   "metadata": {},
   "source": [
    "### Task 4\n",
    "\n",
    "Write a python program that will take a list of numbers(integer) as an input from the user and does the following.\n",
    "* counts the number of valid, invalid, and duplicate numbers and prints these to the user.\n",
    "* stores the valid and invalid numbers in a list format and prints these to the user. You need to make sure that a number is stored only Once. **Valid numbers:** A number with a minimum length of 4 and a maximum length of 6 is considered to be valid for this assignment.\n",
    "* Calculate and print the percentage of valid numbers, invalid numbers, and duplicate numbers to the user. \n",
    "\n",
    "\n",
    "**Hints:** Use membership operator in and not in for checking the duplicates. For calculating the percentage, count the numbers of a particular number type.\n",
    "\n",
    "==================================================\n",
    "\n",
    "\n",
    "**Sample Input1:**\\\n",
    "[97821, 1, 97210, 963, 979210, 979210]\\\n",
    "**Sample Output1:**\\\n",
    "================================================\\\n",
    "Total numbers present in the given string: 6\\\n",
    "Valid number count: 3\\\n",
    "Valid numbers in list: [97821, 97210, 979210]\\\n",
    "Invalid number count: 2\\\n",
    "Invalid numbers in list: [1, 963]\\\n",
    "Duplicate number count: 1\\\n",
    "================================================\\\n",
    "Valid number percentage(%): 50.0\\\n",
    "Invalid number percentage(%): 33.333333333333336\\\n",
    "Duplicate number percentage(%): 16.666666666666668\\\n",
    "================================================\\\n",
    "\n",
    "\n",
    "**Sample Input2:**\\\n",
    "[976321, 321, 9763221, 9742, 876, 3211]\\\n",
    "**Sample Output2:**\\\n",
    "================================================\\\n",
    "Total numbers present in the given string: 6\\\n",
    "Valid number count: 3\\\n",
    "Valid numbers in list: [976321, 9742, 3211]\\\n",
    "Invalid number count: 3\\\n",
    "Invalid numbers in list: [321, 9763221, 876]\\\n",
    "Duplicate number count: 0\\\n",
    "================================================\\\n",
    "Valid number percentage(%): 50.0\\\n",
    "Invalid number percentage(%): 50.0\\\n",
    "Duplicate number percentage(%): 0.0\\\n",
    "================================================\\\n",
    "\n",
    "**Sample Input3:**\\\n",
    "[976321, 321, 9763221, 9742, 876, 3211, 976321, 9742]\\\n",
    "**Sample Output3:**\\\n",
    "================================================\\\n",
    "Total numbers present in the given string: 8\\\n",
    "Valid number count: 3\\\n",
    "Valid numbers in list: [976321, 9742, 3211]\\\n",
    "Invalid number count: 3\\\n",
    "Invalid numbers in list: [321, 9763221, 876]\\\n",
    "Duplicate number count: 2\\\n",
    "================================================\\\n",
    "Valid number percentage(%): 37.5\\\n",
    "Invalid number percentage(%): 37.5\\\n",
    "Duplicate number percentage(%): 25.0\\\n",
    "================================================\\\n"
   ]
  },
  {
   "cell_type": "code",
   "execution_count": 6,
   "metadata": {},
   "outputs": [
    {
     "name": "stdout",
     "output_type": "stream",
     "text": [
      "3\n",
      "[976321, 9742, 3211]\n",
      "3\n",
      "[321, 9763221, 876]\n",
      "2\n",
      "[976321, 9742]\n",
      "37.5\n",
      "37.5\n",
      "25.0\n"
     ]
    }
   ],
   "source": [
    "li=[976321, 321, 9763221, 9742, 876, 3211, 976321, 9742]\n",
    "valid=[]\n",
    "invalid=[]\n",
    "li_2=[]\n",
    "dup=[]\n",
    "for num in li:\n",
    "    if num not in li_2:\n",
    "        li_2.append(num)\n",
    "    else:\n",
    "        dup.append(num)\n",
    "for num in li_2:\n",
    "    if 4<=len(str(num))<=6:\n",
    "        valid.append(num)\n",
    "    else:\n",
    "        invalid.append(num)\n",
    "print(len(valid))\n",
    "print(valid)\n",
    "print(len(invalid))\n",
    "print(invalid)\n",
    "print(len(dup))\n",
    "print(dup)\n",
    "per_va=len(valid)*100/len(li)\n",
    "per_inva=len(invalid)*100/len(li)\n",
    "per_dup=len(dup)*100/len(li)\n",
    "print(per_va)\n",
    "print(per_inva)\n",
    "print(per_dup)"
   ]
  },
  {
   "cell_type": "markdown",
   "metadata": {},
   "source": [
    "### Task 5\n",
    "\n",
    "Write a python program that will take a list of numbers(integer) as an input from the user. Then stores the valid numbers, the sum of digits, and multiplication of the digits for each valid number in a list where each number is the 1st element of the list, the sum of digits is the 2nd element of the list and the multiplication of digits is the 3rd element of the list. Finally, print the nested list to the user. \n",
    "\n",
    "**Sample Input1:**\\\n",
    "[97821, 97210, 979210]\\\n",
    "**Sample Output1:**\\\n",
    "Data [number, sum of digits, product of digits]: [[97821, 27, 1008], [97210, 19, 0], [979210, 28, 0]]\n",
    "\n",
    "================================================\n",
    "\n",
    "**Sample Input2:**\\\n",
    "[976321, 9742, 3211, 30987]\\\n",
    "**Sample Output2:**\\\n",
    "Data [number, sum of digits, product of digits]: [[976321, 28, 2268], [9742, 22, 504], [3211, 7, 6], [30987, 27, 0]]\n",
    "\n",
    "================================================\n",
    "\n",
    "**Sample Input3:**\\\n",
    "[976321, 9640, 3211]\\\n",
    "**Sample Output3:**\\\n",
    "Data [number, sum of digits, product of digits]: [[976321, 28, 2268], [9640, 19, 0], [3211, 7, 6]]\n",
    "\n",
    "================================================\n"
   ]
  },
  {
   "cell_type": "code",
   "execution_count": 24,
   "metadata": {},
   "outputs": [
    {
     "name": "stdout",
     "output_type": "stream",
     "text": [
      "[[976321, 28, 2268], [9640, 19, 0], [3211, 7, 6]]\n"
     ]
    }
   ],
   "source": [
    "nums=[976321, 9640, 3211]\n",
    "valid=[]\n",
    "for i in nums:\n",
    "    a=i\n",
    "    count=0\n",
    "    while a>0:\n",
    "        a=a//10\n",
    "        count+=1\n",
    "    if 3<count<7:\n",
    "        valid.append(i)\n",
    "final=[]\n",
    "for num in valid:\n",
    "    sum=0\n",
    "    pro=1\n",
    "    temp=num\n",
    "    while temp>0:\n",
    "        dig=temp%10\n",
    "        temp=temp//10\n",
    "        sum+=dig\n",
    "        pro*=dig\n",
    "    final.append([num,sum,pro])\n",
    "print(final)"
   ]
  }
 ],
 "metadata": {
  "kernelspec": {
   "display_name": "Python 3",
   "language": "python",
   "name": "python3"
  },
  "language_info": {
   "codemirror_mode": {
    "name": "ipython",
    "version": 3
   },
   "file_extension": ".py",
   "mimetype": "text/x-python",
   "name": "python",
   "nbconvert_exporter": "python",
   "pygments_lexer": "ipython3",
   "version": "3.8.8"
  }
 },
 "nbformat": 4,
 "nbformat_minor": 4
}
