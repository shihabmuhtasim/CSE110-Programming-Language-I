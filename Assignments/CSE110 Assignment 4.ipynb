{
 "cells": [
  {
   "cell_type": "markdown",
   "metadata": {
    "id": "xDNsncrtU1yM"
   },
   "source": [
    "# CSE110 Lab Assignment 4\n",
    "\n",
    "This Assignment is to help you develop your concept of Lists in Python."
   ]
  },
  {
   "cell_type": "markdown",
   "metadata": {
    "id": "gh4GUDaIU1yO"
   },
   "source": [
    "\n",
    "\n",
    "\n",
    "\n",
    "\n",
    "\n",
    "##Write your name, student ID and CSE110 theory section number below:\n",
    "\n",
    "\n",
    "\n",
    "\n",
    "\n"
   ]
  },
  {
   "cell_type": "code",
   "execution_count": null,
   "metadata": {
    "id": "OAYfzLIqgqyE"
   },
   "outputs": [],
   "source": [
    "#STUDENT NAME: Shihab Muhtasim\n",
    "#STUDENT ID: 21301610\n",
    "#CSE110 THEORY SECTION: 01"
   ]
  },
  {
   "cell_type": "markdown",
   "metadata": {
    "id": "KD4EKJf6U1yQ"
   },
   "source": [
    "## Write the code in Python to do the following tasks:\n",
    "\n",
    "**<font color='red'>[MUST MAINTAIN VARIABLE NAMING CONVENTIONS FOR ALL THE TASKS]</font>**"
   ]
  },
  {
   "cell_type": "markdown",
   "metadata": {
    "id": "pbdeIVcyU1yi"
   },
   "source": [
    "### Task 1\n",
    "Write a Python program that reads 10 numbers from the user into a list. After reading each number, print all the numbers that have been entered so far in the list. \n",
    "\n",
    "**Example:**\\\n",
    "After the user enters 3, prints “Numbers in the list: [3]”\\\n",
    "After the user enters 5, prints “Numbers in the list: [3, 5]”\\\n",
    "After the user enters 34, prints “Numbers in the list: [3, 5, 34]”\\\n",
    ".... and so on"
   ]
  },
  {
   "cell_type": "code",
   "execution_count": 11,
   "metadata": {},
   "outputs": [
    {
     "name": "stdout",
     "output_type": "stream",
     "text": [
      "Please enter a number: 3\n",
      "\" Numbers in the list: [3] \"\n",
      "Please enter a number: 5\n",
      "\" Numbers in the list: [3, 5] \"\n",
      "Please enter a number: 6\n",
      "\" Numbers in the list: [3, 5, 6] \"\n",
      "Please enter a number: 7\n",
      "\" Numbers in the list: [3, 5, 6, 7] \"\n",
      "Please enter a number: 8\n",
      "\" Numbers in the list: [3, 5, 6, 7, 8] \"\n",
      "Please enter a number: 3\n",
      "\" Numbers in the list: [3, 5, 6, 7, 8, 3] \"\n",
      "Please enter a number: 5\n",
      "\" Numbers in the list: [3, 5, 6, 7, 8, 3, 5] \"\n",
      "Please enter a number: 73\n",
      "\" Numbers in the list: [3, 5, 6, 7, 8, 3, 5, 73] \"\n",
      "Please enter a number: 5\n",
      "\" Numbers in the list: [3, 5, 6, 7, 8, 3, 5, 73, 5] \"\n",
      "Please enter a number: 5\n",
      "\" Numbers in the list: [3, 5, 6, 7, 8, 3, 5, 73, 5, 5] \"\n"
     ]
    }
   ],
   "source": [
    "#empty list\n",
    "numbers=[]\n",
    "for iteration in range(10):\n",
    "    user_input= int(input(\"Please enter a number: \"))\n",
    "    #adding input to the end of the list\n",
    "    numbers.append(user_input)         \n",
    "    print('\"',\"Numbers in the list:\",numbers,'\"')"
   ]
  },
  {
   "cell_type": "markdown",
   "metadata": {
    "id": "ZrjtT-I_U1zD"
   },
   "source": [
    "### Task 2\n",
    "\n",
    "Write a Python program that takes a list as an input from the user.Then creates a new list excluding the first and last two elements of the given list and prints the new list. If there are not enough elements in the list to do the task, the print \"Not possible\".\n",
    "\n",
    "**Note:** You may use list slicing.\n",
    "\n",
    "===================================================================\n",
    "\n",
    "**Sample Input 1:**<br/>\n",
    "[10, 20, 24, 25, 26, 35, 70]<br/>\n",
    "**Sample Output 1:**<br/>\n",
    "[24, 25, 26]<br/>\n",
    "\n",
    "===================================================================\n",
    "\n",
    "**Sample Input 2:**<br/>\n",
    "[10, 20, 24, 25, 26]<br/>\n",
    "**Sample Output 2:**<br/>\n",
    "[24]<br/>\n",
    "\n",
    "===================================================================\n",
    "\n",
    "**Sample Input 3:**<br/>\n",
    "[10, 20, 24, 25]<br/>\n",
    "**Sample Output 3:**<br/>\n",
    "[]<br/>\n",
    "\n",
    "===================================================================\n",
    "\n",
    "**Sample Input 4:**<br/>\n",
    "[10, 20, 24]<br/>\n",
    "**Sample Output 4:**<br/>\n",
    "Not possible<br/>\n",
    "\n",
    "==================================================================="
   ]
  },
  {
   "cell_type": "code",
   "execution_count": 7,
   "metadata": {
    "id": "3r7Ripj7U1zE"
   },
   "outputs": [
    {
     "name": "stdout",
     "output_type": "stream",
     "text": [
      "Please enter the length of your list: 5\n",
      "Please enter a number: 6\n",
      "Please enter a number: 7\n",
      "Please enter a number: 8\n",
      "Please enter a number: 9\n",
      "Please enter a number: 4\n",
      "Output: [8]\n"
     ]
    }
   ],
   "source": [
    "#length of list\n",
    "length= int(input(\"Please enter the length of your list: \"))\n",
    "#declare empty string\n",
    "numbers=[]\n",
    "#for loop \n",
    "for iteration in range(length):\n",
    "    user_input= int(input(\"Please enter a number: \"))\n",
    "    #adding input to the end of the list\n",
    "    numbers.append(user_input)         \n",
    "#store user list\n",
    "user_list= numbers\n",
    "#slicing\n",
    "if length > 3:\n",
    "    print(\"Output:\",user_list[2:-2])\n",
    "else:\n",
    "     print(\"Output: Not Possible\")   "
   ]
  },
  {
   "cell_type": "markdown",
   "metadata": {
    "id": "AWgZaBZCzmaM"
   },
   "source": [
    "### Task 3\n",
    "\n",
    "Write a python program that reads 5 numbers from the user into a list, and then prints them in the reverse order.\n",
    "\n",
    "*Hint: You may create a list to store the input numbers and then use loop to print them in reverse order*\n",
    "\n",
    "===================================================================\n",
    "\n",
    "**Sample Input:**\\\n",
    "5\\\n",
    "-5\\\n",
    "100\\\n",
    "1\\\n",
    "0\n",
    "\n",
    "**Sample Output:**\\\n",
    "0\\\n",
    "1\\\n",
    "100\\\n",
    "-5\\\n",
    "5\n",
    "\n",
    "==================================================================="
   ]
  },
  {
   "cell_type": "code",
   "execution_count": 3,
   "metadata": {
    "id": "ICW-03YOznTp"
   },
   "outputs": [
    {
     "name": "stdout",
     "output_type": "stream",
     "text": [
      "Please enter a number: 5\n",
      "Please enter a number: -5\n",
      "Please enter a number: 100\n",
      "Please enter a number: 1\n",
      "Please enter a number: 0\n",
      "Output:\n",
      "0\n",
      "1\n",
      "100\n",
      "-5\n",
      "5\n"
     ]
    }
   ],
   "source": [
    "#declare empty list\n",
    "numbers=[]\n",
    "#for loop \n",
    "for iteration in range(5):\n",
    "    user_input= int(input(\"Please enter a number: \"))\n",
    "    #adding input to the end of the list\n",
    "    numbers.append(user_input)   \n",
    "#store user list\n",
    "user_list= numbers\n",
    "#output tag\n",
    "print(\"Output:\")\n",
    "#loop for reversing\n",
    "for i in range(len(user_list)-1, -1, -1):\n",
    "    print(user_list[i])    "
   ]
  },
  {
   "cell_type": "markdown",
   "metadata": {
    "id": "7a_1pYjfU1zI"
   },
   "source": [
    "### Task 4\n",
    "Assume, you have been given two lists. [Your program should work for any two given lists; change the following lists and check whether your program works correctly for the code you have written]\n",
    "\n",
    "list_one = [1, 2, 3, 4, 5, 6, 7, 8, 9]\\\n",
    "list_two = [10, 11, 12, -13, -14, -15, -16]\n",
    "\n",
    "Write a Python program that creates a new list with all the **even elements** of both of the given lists and prints the new list.\n",
    "\n",
    "**Hint:** You may create a third list to store the even elements of the given lists.\n",
    "\n",
    "===================================================================\n",
    "\n",
    "**Output for the above lists:** [2, 4, 6, 8, 10, 12, -14, -16]\n",
    "\n",
    "==================================================================="
   ]
  },
  {
   "cell_type": "code",
   "execution_count": 23,
   "metadata": {
    "id": "vToa7yazU1zI"
   },
   "outputs": [
    {
     "name": "stdout",
     "output_type": "stream",
     "text": [
      "Output: [2, 4, 6, 8, 10, 12, -14, -16]\n"
     ]
    }
   ],
   "source": [
    "#given lists\n",
    "list_one = [1, 2, 3, 4, 5, 6, 7, 8, 9]\n",
    "list_two = [10, 11, 12, -13, -14, -15, -16]\n",
    "#empty list\n",
    "list_three=[]\n",
    "#loop for even numbers extracting\n",
    "for index in list_one:\n",
    "    if index%2==0:\n",
    "        list_three.append(index)\n",
    "for index in list_two:\n",
    "    if index%2==0:\n",
    "        list_three.append(index)\n",
    "#print list of even numbers        \n",
    "print(\"Output:\",list_three)        "
   ]
  },
  {
   "cell_type": "markdown",
   "metadata": {
    "id": "QaD4hLn92EKT"
   },
   "source": [
    "### Task 5\n",
    "\n",
    "Write a Python program that takes numbers as input into a list, removes multiple occurences of any number and then finally prints a list **without duplicate values**.\n",
    "\n",
    "*Hint: You may create a third list to store the results. You can use membership operators (in, not in) to make sure no duplicates are added.*\n",
    "\n",
    "===================================================================\n",
    "\n",
    "**Sample Input 1:**<br/>\n",
    "0, 0, 1, 2, 3, 4, 4, 5, 6, 6, 6, 7, 8, 9, 4, 4<br/>\n",
    "\n",
    "\n",
    "**Sample Output 1:**<br/>\n",
    "[0, 1, 2, 3, 4, 5, 6, 7, 8, 9]<br/>\n",
    "\n",
    "===================================================================\n",
    "\n",
    "**Sample Input 2:**<br/>\n",
    "7, 7, 7, 1, 0, 3, 3, 55, 9<br/>\n",
    "\n",
    "\n",
    "**Sample Output 2:**<br/>\n",
    "[7, 1, 0, 3, 55, 9]<br/>\n",
    "\n",
    "==================================================================="
   ]
  },
  {
   "cell_type": "code",
   "execution_count": 4,
   "metadata": {
    "id": "EUbQbz5hU1zP"
   },
   "outputs": [
    {
     "name": "stdout",
     "output_type": "stream",
     "text": [
      "Please enter the length of your list: 9\n",
      "Please enter a number: 7\n",
      "Please enter a number: 7\n",
      "Please enter a number: 7\n",
      "Please enter a number: 1\n",
      "Please enter a number: 0\n",
      "Please enter a number: 3\n",
      "Please enter a number: 3\n",
      "Please enter a number: 55\n",
      "Please enter a number: 9\n",
      "Output: [7, 1, 0, 3, 55, 9]\n"
     ]
    }
   ],
   "source": [
    "#length of list\n",
    "length= int(input(\"Please enter the length of your list: \"))\n",
    "#declare empty string\n",
    "numbers=[]\n",
    "#for loop \n",
    "for iteration in range(length):\n",
    "    user_input= int(input(\"Please enter a number: \"))\n",
    "    #adding input to the end of the list\n",
    "    numbers.append(user_input)         \n",
    "#store user list\n",
    "user_list= numbers\n",
    "#empty list\n",
    "final_list=[]\n",
    "#loop for removing dupicates\n",
    "for number in user_list:\n",
    "    if number not in final_list:\n",
    "        final_list.append(number)\n",
    "print(\"Output:\",final_list)"
   ]
  },
  {
   "cell_type": "markdown",
   "metadata": {
    "id": "wfcSytFVU1zU"
   },
   "source": [
    "### Task 6\n",
    "\n",
    "Write a Python program that reads 5 numbers into a list and prints the largest number and its location or index position on the list. <font color='red'>[You are not allowed to use the max(), sort(), sorted() function here]</font>\n",
    "\n",
    "**Hint:** Assume the first input to be the largest value initially and the largest value’s location to be 0.\n",
    "\n",
    "**Note:** You may need to be careful while printing the output. Depending on your code, you might need data conversion.\n",
    "\n",
    "===================================================================\n",
    "\n",
    "**Sample Input:**\\\n",
    " 7, 13, 2, 10, 6\n",
    "\n",
    "**Sample Output:**\\\n",
    "My list: [7, 13, 2, 10, 6]\\\n",
    "Largest number in the list is 13 which was found at index 1.\n",
    "\n",
    "==================================================================="
   ]
  },
  {
   "cell_type": "code",
   "execution_count": 7,
   "metadata": {},
   "outputs": [
    {
     "name": "stdout",
     "output_type": "stream",
     "text": [
      "Please enter a number: 7\n",
      "Please enter a number: 13\n",
      "Please enter a number: 2\n",
      "Please enter a number: 10\n",
      "Please enter a number: 6\n",
      "Output:\n",
      "My list: [7, 13, 2, 10, 6]\n",
      "Largest number in the list is 13 which was found at index  1\n"
     ]
    }
   ],
   "source": [
    "#declare empty list\n",
    "numbers=[]\n",
    "#for loop \n",
    "for iteration in range(5):\n",
    "    user_input= int(input(\"Please enter a number: \"))\n",
    "    #adding input to the end of the list\n",
    "    numbers.append(user_input)   \n",
    "#store user list\n",
    "user_list= numbers\n",
    "max_val= user_list[0]\n",
    "index=0\n",
    "for iteration in range (len(user_list)):\n",
    "    if user_list[iteration]>max_val:\n",
    "        max_val=user_list[iteration]\n",
    "        index=iteration\n",
    "print(\"Output:\") \n",
    "print(\"My list:\",user_list)\n",
    "print(\"Largest number in the list is\",max_val,\"which was found at index \",index)                 "
   ]
  },
  {
   "cell_type": "markdown",
   "metadata": {
    "id": "nwRZ3_0tC3fq"
   },
   "source": [
    "### Task 7\n",
    "\n",
    "\n",
    "Assume, you have been given two lists. [Your program should work for any two given lists; make changes to the lists below and check whether your program works correctly]\n",
    "\n",
    "list_one = [1, 2 , 2, 4, 5, 5, 7, 99, 200, 303, 70]\\\n",
    "list_two = [1, 1, 2, 3, 3, 3, 4, 5, 200, 500, -5]\n",
    "\n",
    "Write a Python program that creates a new list with all the **unique elements** of both the given lists. \n",
    "<font color='red'> **You need to make sure that there are no duplicates in the resulting list.**</font> Finally, print the updated list.\n",
    "\n",
    "**Hint:** You may create a third list to store the results. You can use membership operators (in, not in) to make sure no duplicates are added.\n",
    "\n",
    "===================================================================\n",
    "\n",
    "**Output for the above two lists**: \n",
    "[1, 2, 4, 5, 7, 99, 200, 303, 70, 3, 500, -5]\n",
    "\n",
    "===================================================================\n",
    "\n"
   ]
  },
  {
   "cell_type": "code",
   "execution_count": 3,
   "metadata": {
    "id": "LEnaTlyoMJdS"
   },
   "outputs": [
    {
     "name": "stdout",
     "output_type": "stream",
     "text": [
      "Output: [1, 2, 4, 5, 7, 99, 200, 303, 70, 3, 500, -5]\n"
     ]
    }
   ],
   "source": [
    "#given lists\n",
    "list_one = [1, 2 , 2, 4, 5, 5, 7, 99, 200, 303, 70]\n",
    "list_two = [1, 1, 2, 3, 3, 3, 4, 5, 200, 500, -5]\n",
    "#empty list\n",
    "final_list=[]\n",
    "#loop for removing dupicates\n",
    "for number in list_one:\n",
    "    if number not in final_list:\n",
    "        final_list.append(number)\n",
    "for number in list_two:\n",
    "    if number not in final_list:\n",
    "        final_list.append(number)\n",
    "print(\"Output:\",final_list)"
   ]
  },
  {
   "cell_type": "markdown",
   "metadata": {
    "id": "bvF30RQlemBW"
   },
   "source": [
    "# Task 8\n",
    "\n",
    "Write a Python program that takes two lists and prints True if they have at least one common member.\n",
    "\n",
    "===================================================================\n",
    "\n",
    "**Sample Input 1:**\\\n",
    "List_one : [1, 4, 3, 2, 6]\\\n",
    "List_two : [5, 6, 9, 8, 7]\n",
    "\n",
    "**Sample Output 1:**\\\n",
    "True\n",
    "\n",
    "===================================================================\n",
    "\n",
    "**Sample Input 2:**\\\n",
    "List_one : [1, 4, 3, 2, 5]\\\n",
    "List_two : [8, 7, 6, 9]\n",
    "\n",
    "**Sample Output 2:**\n",
    "False\n",
    "\n",
    "===================================================================\n"
   ]
  },
  {
   "cell_type": "code",
   "execution_count": 5,
   "metadata": {},
   "outputs": [
    {
     "name": "stdout",
     "output_type": "stream",
     "text": [
      "Please enter the length of your first list: 5\n",
      "Please enter the length of your second list: 4\n",
      "Please enter a number for your first list: 1\n",
      "Please enter a number for your first list: 4\n",
      "Please enter a number for your first list: 3\n",
      "Please enter a number for your first list: 2\n",
      "Please enter a number for your first list: 5\n",
      "Please enter a number for your second list: 8\n",
      "Please enter a number for your second list: 7\n",
      "Please enter a number for your second list: 6\n",
      "Please enter a number for your second list: 9\n",
      "Output: False\n"
     ]
    }
   ],
   "source": [
    "#length of lists\n",
    "length_one= int(input(\"Please enter the length of your first list: \"))\n",
    "length_two= int(input(\"Please enter the length of your second list: \"))\n",
    "#declare empty strings\n",
    "numbers_one=[]\n",
    "numbers_two=[]\n",
    "#for loops for user input \n",
    "for iteration in range(length_one):\n",
    "    user_input= int(input(\"Please enter a number for your first list: \"))\n",
    "    #adding input to the end of the list\n",
    "    numbers_one.append(user_input)\n",
    "for iteration in range(length_two):\n",
    "    user_input= int(input(\"Please enter a number for your second list: \"))\n",
    "    #adding input to the end of the list\n",
    "    numbers_two.append(user_input)    \n",
    "#store user lists\n",
    "list_one= numbers_one\n",
    "list_two= numbers_two\n",
    "#store variable\n",
    "flag= False\n",
    "#common value justify\n",
    "for number in list_one:\n",
    "    if number in list_two:\n",
    "        flag= True\n",
    "        break\n",
    "print(\"Output:\",flag)    "
   ]
  },
  {
   "cell_type": "markdown",
   "metadata": {
    "id": "vyFt-Ra5erR4"
   },
   "source": [
    "### Task 9\n",
    "\n",
    "Write a Python program that reads 10 numbers into a list and prints the numbers of that specified list after removing **even numbers** from it.\n",
    "\n",
    "=========================================================================\n",
    "\n",
    "**Sample Input:**\n",
    "\n",
    "7,12,4,55,96,2,11,61,33,42\n",
    "\n",
    "**Sample Output:**\n",
    "\n",
    "[7, 55, 11, 61, 33]\n",
    "\n",
    "=========================================================================\n",
    "\n",
    "\n",
    "\n"
   ]
  },
  {
   "cell_type": "code",
   "execution_count": 1,
   "metadata": {
    "id": "1U3bswq9e9B3"
   },
   "outputs": [
    {
     "name": "stdout",
     "output_type": "stream",
     "text": [
      "Please enter a number: 7\n",
      "Please enter a number: 12\n",
      "Please enter a number: 4\n",
      "Please enter a number: 55\n",
      "Please enter a number: 96\n",
      "Please enter a number: 2\n",
      "Please enter a number: 11\n",
      "Please enter a number: 61\n",
      "Please enter a number: 33\n",
      "Please enter a number: 42\n",
      "Output: [7, 55, 11, 61, 33]\n"
     ]
    }
   ],
   "source": [
    "#declare empty list\n",
    "numbers=[]\n",
    "#for loop \n",
    "for iteration in range(10):\n",
    "    user_input= int(input(\"Please enter a number: \"))\n",
    "    #adding input to the end of the list\n",
    "    numbers.append(user_input)   \n",
    "#store user list\n",
    "list_one= numbers\n",
    "#empty list\n",
    "final_list=[]\n",
    "#loop for even numbers extracting\n",
    "for index in list_one:\n",
    "    if index%2!=0:\n",
    "        final_list.append(index)\n",
    "#print list of even numbers        \n",
    "print(\"Output:\",final_list)     \n"
   ]
  },
  {
   "cell_type": "markdown",
   "metadata": {
    "id": "G9jPuLWOetqd"
   },
   "source": [
    "### Task 10\n",
    "\n",
    "Write a Python program that removes all Empty strings from a given list and print the new list.\n",
    "\n",
    "=========================================================================\n",
    "\n",
    "**Sample Input:**\n",
    "\n",
    "[\"hey\", \"there\", \" \", \"what's\", \" \", \"up\", \" \", \"?\"]\n",
    "\n",
    "**Sample Output:**\n",
    "\n",
    "Original List:\n",
    "[\"hey\", \"there\", \" \", \"what's\", \" \", \"up\", \" \", \"?\"]\n",
    "\n",
    "Modified List:\n",
    "[\"hey\", \"there\", \"what's\", \"up\", \"?\"]\n",
    "\n",
    "==========================================================================\n",
    "\n",
    "\n"
   ]
  },
  {
   "cell_type": "code",
   "execution_count": 6,
   "metadata": {
    "id": "OlrhifBge-TA"
   },
   "outputs": [
    {
     "name": "stdout",
     "output_type": "stream",
     "text": [
      "Please enter the length of your list:8\n",
      "Please enter an element:hey\n",
      "Please enter an element:\n",
      "Please enter an element:there\n",
      "Please enter an element:what's\n",
      "Please enter an element:\n",
      "Please enter an element:up\n",
      "Please enter an element:haha\n",
      "Please enter an element:hihi\n",
      "Output:\n",
      "Original list: ['hey', '', 'there', \"what's\", '', 'up', 'haha', 'hihi']\n",
      "Modified list: ['hey', 'there', \"what's\", 'up', 'haha', 'hihi']\n"
     ]
    }
   ],
   "source": [
    "length= int(input(\"Please enter the length of your list:\"))\n",
    "elements=[]\n",
    "for iteration in range(length):\n",
    "    user_input= input(\"Please enter an element:\")\n",
    "    elements.append(user_input)\n",
    "print(\"Output:\")    \n",
    "print(\"Original list:\", elements)           \n",
    "final=[]\n",
    "for index in elements:                                                 \n",
    "    if len(index)>0:\n",
    "        final.append(index)\n",
    "print(\"Modified list:\",final)"
   ]
  },
  {
   "cell_type": "markdown",
   "metadata": {
    "id": "UjTy79X6ewce"
   },
   "source": [
    "## Task 11\n",
    "\n",
    "Write a Python program that replaces the last element of first list with second list.\n",
    "\n",
    "===================================================================\n",
    "\n",
    "**Sample Input 1:**\\\n",
    "List_one : [1, 4, 7, 5]\\\n",
    "List_two : [6, 1, 3, 9]\n",
    "\n",
    "**Sample Output 1:**\\\n",
    "[1, 4, 7, 6, 1, 3, 9]\n",
    "\n",
    "===================================================================\n",
    "\n",
    "**Sample Input 2:**\\\n",
    "List_one : [1, 3, 5, 7, 9, 10]\\\n",
    "List_two : [2, 4, 6, 8]\n",
    "\n",
    "**Sample Output 2:**\\\n",
    "[1, 3, 5, 7, 9, 2, 4, 6, 8]\n",
    "\n",
    "===================================================================\n",
    "\n",
    "\n",
    "\n"
   ]
  },
  {
   "cell_type": "code",
   "execution_count": 7,
   "metadata": {
    "id": "bBseKJuse_bX"
   },
   "outputs": [
    {
     "name": "stdout",
     "output_type": "stream",
     "text": [
      "Please enter the length of your first list: 6\n",
      "Please enter the length of your second list: 4\n",
      "Please enter a number for your first list: 1\n",
      "Please enter a number for your first list: 3\n",
      "Please enter a number for your first list: 5\n",
      "Please enter a number for your first list: 7\n",
      "Please enter a number for your first list: 9\n",
      "Please enter a number for your first list: 10\n",
      "Please enter a number for your second list: 2\n",
      "Please enter a number for your second list: 4\n",
      "Please enter a number for your second list: 6\n",
      "Please enter a number for your second list: 8\n",
      "Output: [1, 3, 5, 7, 9, 2, 4, 6, 8]\n"
     ]
    }
   ],
   "source": [
    "#length of lists\n",
    "length_one= int(input(\"Please enter the length of your first list: \"))\n",
    "length_two= int(input(\"Please enter the length of your second list: \"))\n",
    "#declare empty strings\n",
    "numbers_one=[]\n",
    "numbers_two=[]\n",
    "#for loops for user input \n",
    "for iteration in range(length_one):\n",
    "    user_input= int(input(\"Please enter a number for your first list: \"))\n",
    "    #adding input to the end of the list\n",
    "    numbers_one.append(user_input)\n",
    "for iteration in range(length_two):\n",
    "    user_input= int(input(\"Please enter a number for your second list: \"))\n",
    "    #adding input to the end of the list\n",
    "    numbers_two.append(user_input)    \n",
    "#store user lists\n",
    "list_one= numbers_one\n",
    "list_two= numbers_two\n",
    "#slicing list_one last value\n",
    "list_one= list_one[:-1]\n",
    "#adding list_two items to list_one\n",
    "list_one.extend(list_two)\n",
    "print(\"Output:\",list_one)"
   ]
  },
  {
   "cell_type": "markdown",
   "metadata": {
    "id": "4pBLPmvre0jv"
   },
   "source": [
    "### Task 12\n",
    "\n",
    "Write a Python program that turns every item of a list into its square.\n",
    "\n",
    "===================================================================\n",
    "\n",
    "**Sample Input 1:**\\\n",
    "[1, 2, 3, 4, 5, 6, 7]\n",
    "\n",
    "**Sample Output 1:**\\\n",
    "[1, 4, 9, 16, 25, 36, 49]\n",
    "\n",
    "===================================================================\n",
    "\n",
    "**Sample Input 2:**\\\n",
    "[3, 5, 1, 6]\n",
    "\n",
    "**Sample Output 2:**\\\n",
    "[9, 25, 1, 36]\n",
    "\n",
    "\n",
    "===================================================================\n",
    "\n",
    "\n",
    "\n",
    "\n",
    "\n"
   ]
  },
  {
   "cell_type": "code",
   "execution_count": 9,
   "metadata": {
    "id": "5NDg0odDfANt"
   },
   "outputs": [
    {
     "name": "stdout",
     "output_type": "stream",
     "text": [
      "Please enter the length of your list: 7\n",
      "Please enter a number: 1\n",
      "Please enter a number: 2\n",
      "Please enter a number: 3\n",
      "Please enter a number: 4\n",
      "Please enter a number: 5\n",
      "Please enter a number: 6\n",
      "Please enter a number: 7\n",
      "Output: [1, 4, 9, 16, 25, 36, 49]\n"
     ]
    }
   ],
   "source": [
    "#length of list\n",
    "length= int(input(\"Please enter the length of your list: \"))\n",
    "#declare empty string\n",
    "numbers=[]\n",
    "#for loop \n",
    "for iteration in range(length):\n",
    "    user_input= int(input(\"Please enter a number: \"))\n",
    "    #adding input to the end of the list\n",
    "    numbers.append(user_input)         \n",
    "#store user list\n",
    "user_list= numbers\n",
    "#store variable\n",
    "final_list=[]\n",
    "#new data creation \n",
    "for index in user_list:\n",
    "    final_list.append(index**2)\n",
    "print(\"Output:\",final_list)    "
   ]
  },
  {
   "cell_type": "markdown",
   "metadata": {
    "id": "WZXnxHTdGrMC"
   },
   "source": [
    "## Optional Tasks (13-15) [Ungraded]"
   ]
  },
  {
   "cell_type": "markdown",
   "metadata": {
    "id": "lvSiLaobU1zY"
   },
   "source": [
    "### Task 13\n",
    "\n",
    "Write a Python program that reads 5 numbers into a list and prints the smallest and largest number and their locations in the list. <font color='red'>[You are not allowed to use the max(), min(), sort(), sorted() functions here]</font>\n",
    "\n",
    "**Hint:** You may assume the first input to be the largest value initially and the largest value’s location to be 0. Similarly, you can assume the first input to be the smallest value initially and the smallest value’s location to be 0. \n",
    "\n",
    "**Note:** You may need to be careful while printing the output. Depending on your code, you might need data conversion.\n",
    "\n",
    "===================================================================\n",
    "\n",
    "**Sample Input:**\\\n",
    "7, 13, -5, 10, 6\n",
    "\n",
    "**Sample Output:**\\\n",
    "My list: [7, 13, -5, 10, 6]\\\n",
    "Smallest number in the list is -5 which was found at index 2\\\n",
    "Largest number in the list is 13 which was found at index 1\n",
    "\n",
    "==================================================================="
   ]
  },
  {
   "cell_type": "code",
   "execution_count": 2,
   "metadata": {
    "id": "yiS5TWSDU1zY"
   },
   "outputs": [
    {
     "name": "stdout",
     "output_type": "stream",
     "text": [
      "Please enter a number: 3\n",
      "Please enter a number: 4\n",
      "Please enter a number: 5\n",
      "Please enter a number: 6\n",
      "Please enter a number: -7\n",
      "Smallest number in the list is -7 which was found at index 4\n",
      "Largest number in the list is 6 which was found at index 3\n"
     ]
    }
   ],
   "source": [
    "#declare empty list\n",
    "numbers=[]\n",
    "#for loop \n",
    "for iteration in range(5):\n",
    "    user_input= int(input(\"Please enter a number: \"))\n",
    "    #adding input to the end of the list\n",
    "    numbers.append(user_input)   \n",
    "#store user list\n",
    "my_list=numbers\n",
    "max=my_list[0]\n",
    "min=my_list[0]\n",
    "max_index=0\n",
    "min_index=0\n",
    "for i in range(len(my_list)):\n",
    "    if my_list[i]>max:\n",
    "        max=my_list[i]\n",
    "        max_index=i\n",
    "    elif my_list[i]<min:\n",
    "        min=my_list[i]\n",
    "        min_index=i\n",
    "print(\"Smallest number in the list is\",min, \"which was found at index\", min_index)\n",
    "print(\"Largest number in the list is\", max, \"which was found at index\", max_index)"
   ]
  },
  {
   "cell_type": "markdown",
   "metadata": {
    "id": "rguDZ8SBCHD8"
   },
   "source": [
    "### Task 14\n",
    "Write a Python program that takes two lists as an input from the user. Then print a new list with the **common elements** of both the input lists. \n",
    "\n",
    "*Hint: You may need to create a third list to store the results. You can use membership operators (in, not in) to make sure similar elements are added.*\n",
    "\n",
    "===================================================================\n",
    "\n",
    "**Sample Input 1:**<br/>\n",
    "A, B, C, D\n",
    "\n",
    "\n",
    "C, E , F, B\n",
    "\n",
    "\n",
    "**Sample Output 1:**<br/>\n",
    "['C', 'B']\n",
    "\n",
    "===================================================================\n",
    "\n",
    "**Sample Input 2:**<br/>\n",
    "1, 3, A, H, P\n",
    "\n",
    "\n",
    "A, G, 1, P, O\n",
    "\n",
    "\n",
    "**Sample Output 2:**<br/>\n",
    "['1', 'A', 'P']\n",
    "\n",
    "===================================================================\n"
   ]
  },
  {
   "cell_type": "code",
   "execution_count": 9,
   "metadata": {
    "id": "3iueGiPPGG66"
   },
   "outputs": [
    {
     "name": "stdout",
     "output_type": "stream",
     "text": [
      "Enter elements seperated by comma for your first list:t,y,u,e,d,g\n",
      "Enter elements seperated by comma for your second list:t,f,g,hs,f,y,f,d\n",
      "Output: ['t', 'y', 'd', 'g']\n"
     ]
    }
   ],
   "source": [
    "list_1= input(\"Enter elements seperated by comma for your first list:\").split(\",\")\n",
    "list_2= input(\"Enter elements seperated by comma for your second list:\").split(\",\")\n",
    "final_list=[] \n",
    "for i in list_1:\n",
    "    if i in list_2:\n",
    "        final_list.append(i)\n",
    "print(\"Output:\",final_list)        "
   ]
  },
  {
   "cell_type": "markdown",
   "metadata": {
    "id": "tjcE5oitCM2s"
   },
   "source": [
    "### Task 15\n",
    "\n",
    "\n",
    "Write a Python program that reads 5 numbers into a list and prints the second largest number and its location or index position on the list. <font color='red'>[You are not allowed to use the max(), sort(), sorted() function here]</font>\n",
    "\n",
    "===================================================================\n",
    "\n",
    "**Sample Input:**\\\n",
    " 7, 13, 2, 10, 6\n",
    "\n",
    "**Sample Output:**\\\n",
    "My list: [7, 13, 2, 10, 6]\\\n",
    "Second largest number in the list is 10 which was found at index 3.\n",
    "\n",
    "==================================================================="
   ]
  },
  {
   "cell_type": "code",
   "execution_count": 4,
   "metadata": {},
   "outputs": [
    {
     "name": "stdout",
     "output_type": "stream",
     "text": [
      "Enter numbers seperated by comma :4,5,6,7,8\n",
      "7\n",
      "3\n"
     ]
    }
   ],
   "source": [
    "list= input(\"Enter numbers seperated by comma :\").split(\",\")\n",
    "for i in range(len(list)):\n",
    "    list[i]=int(list[i])\n",
    "list=list[:5]    \n",
    "max=list[0]   \n",
    "max_index=0\n",
    "for i in range(len(list)):\n",
    "    if list[i]>max:\n",
    "        max=list[i]\n",
    "        max_index=i\n",
    "max2=None\n",
    "max2_index= None\n",
    "if max_index== 0:\n",
    "    max2=list[1]\n",
    "    max2_index=1\n",
    "else:\n",
    "    max2=list[0]\n",
    "    max2_index=0\n",
    "for i in range(len(list)):\n",
    "    if list[i]>max2 and list[i]!=max:\n",
    "        max2= list[i]\n",
    "        max2_index=i\n",
    "print(max2)        \n",
    "print(max2_index)"
   ]
  }
 ],
 "metadata": {
  "colab": {
   "collapsed_sections": [],
   "name": "CSE110 Lab Assignment 4.ipynb",
   "provenance": []
  },
  "kernelspec": {
   "display_name": "Python 3",
   "language": "python",
   "name": "python3"
  },
  "language_info": {
   "codemirror_mode": {
    "name": "ipython",
    "version": 3
   },
   "file_extension": ".py",
   "mimetype": "text/x-python",
   "name": "python",
   "nbconvert_exporter": "python",
   "pygments_lexer": "ipython3",
   "version": "3.8.8"
  }
 },
 "nbformat": 4,
 "nbformat_minor": 1
}
