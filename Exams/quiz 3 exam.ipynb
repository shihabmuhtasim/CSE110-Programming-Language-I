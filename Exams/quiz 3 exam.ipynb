{
 "cells": [
  {
   "cell_type": "markdown",
   "id": "1fc7b492",
   "metadata": {},
   "source": [
    "𝗤𝘂𝗲𝘀𝘁𝗶𝗼𝗻:\n",
    "Write a Python program that will take N Student IDs from the user. [First, \n",
    "take N, then take N number of student IDs as input from the user.] Create a \n",
    "dictionary from the N IDs that will hold the IDs in separate keys based on \n",
    "the admitting year.\n",
    "Explanation: First 2 digits of the ID denotes the year.\n",
    "\n",
    "================================================\n",
    "Sample Input1:\n",
    "5\n",
    "18101202\n",
    "18104354\n",
    "20101457\n",
    "19103372\n",
    "20301021\n",
    "\n",
    "Sample Output1:\n",
    "{'18th': ['18101202', '18104354'], '20th': \n",
    "['20101457', '20301021'], '19th': ['19103372']}\n",
    "\n",
    "================================================\n",
    "Sample Input2:\n",
    "6\n",
    "10101202\n",
    "12104354\n",
    "13101457\n",
    "13103372\n",
    "20301021\n",
    "10101457\n",
    "\n",
    "Sample Output2:\n",
    "{'10th': ['10101202', '10101457'], '12th': ['12104354'], '13th': \n",
    "['13101457', '13103372'], '20th': ['20301021']}"
   ]
  },
  {
   "cell_type": "code",
   "execution_count": 4,
   "id": "59f5127d",
   "metadata": {},
   "outputs": [
    {
     "name": "stdout",
     "output_type": "stream",
     "text": [
      "Enter the number of ID's: 6\n",
      "Please enter ID:10101202\n",
      "Please enter ID:12104354\n",
      "Please enter ID:13101457\n",
      "Please enter ID:13103372\n",
      "Please enter ID:20301021\n",
      "Please enter ID:10101457\n",
      "{'10th': ['10101202', '10101457'], '12th': ['12104354'], '13th': ['13101457', '13103372'], '20th': ['20301021']}\n"
     ]
    }
   ],
   "source": [
    "n=int(input(\"Enter the number of ID's: \"))\n",
    "id_store = []\n",
    "for iteration in range(n):\n",
    "    num = input(\"Please enter ID:\")\n",
    "    id_store.append(num)\n",
    "ans={}\n",
    "for id_num in id_store:\n",
    "    key = id_num[0]+id_num[1]+\"th\"\n",
    "    if key not in ans.keys():\n",
    "        ans[key] = [id_num]\n",
    "    else:\n",
    "        ans[key].append(id_num)\n",
    "print(ans)"
   ]
  }
 ],
 "metadata": {
  "kernelspec": {
   "display_name": "Python 3",
   "language": "python",
   "name": "python3"
  },
  "language_info": {
   "codemirror_mode": {
    "name": "ipython",
    "version": 3
   },
   "file_extension": ".py",
   "mimetype": "text/x-python",
   "name": "python",
   "nbconvert_exporter": "python",
   "pygments_lexer": "ipython3",
   "version": "3.8.8"
  }
 },
 "nbformat": 4,
 "nbformat_minor": 5
}
