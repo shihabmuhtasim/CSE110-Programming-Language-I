{
 "cells": [
  {
   "cell_type": "markdown",
   "id": "3c8071ad",
   "metadata": {},
   "source": [
    "𝗤𝘂𝗲𝘀𝘁𝗶𝗼𝗻:\n",
    "Assume on a planet called “Chocolatey”, 1 month = 20 days and 1 year = 240 \n",
    "days = 12 months.  Write a function Days that takes 2 arguments: a start \n",
    "date and the last date. Then calculates the number of days between these \n",
    "two dates(inclusive) and returns it to the function call.\n",
    "Assume, the start and last date will be given in dd/mm/yyyy format.\n",
    "\n",
    "================================\n",
    "Function Call1:\n",
    "function_name(\"3/8/2018\", \"12/12/2020\")\n",
    "Sample Output1:\n",
    "570\n",
    "================================\n",
    "Function Call2:\n",
    "function_name(\"3/8/2020\", \"12/12/2020\")\n",
    "Sample Output2:\n",
    "90\n",
    "================================\n",
    "Function Call3:\n",
    "function_name(\"3/8/2018\", \"3/9/2020\")\n",
    "Sample Output3:\n",
    "501\n",
    "================================\n",
    "Function Call4:\n",
    "function_name(\"3/8/2018\", \"10/8/2020\")\n",
    "Sample Output4:\n",
    "488\n"
   ]
  },
  {
   "cell_type": "code",
   "execution_count": 1,
   "id": "59e3cb99",
   "metadata": {},
   "outputs": [
    {
     "name": "stdout",
     "output_type": "stream",
     "text": [
      "Please enter a starting date in dd/mm/yy format:3/8/2018\n",
      "Please enter an ending date in dd/mm/yy format:10/8/2020\n",
      "488\n"
     ]
    }
   ],
   "source": [
    "def day_count(start,end):\n",
    "    start_list=start.split(\"/\")\n",
    "    end_list=end.split(\"/\")\n",
    "    year=(int(end_list[-1])-int(start_list[-1]))*240\n",
    "    month=(int(end_list[-2])-int(start_list[-2]))*20\n",
    "    day=(int(end_list[0])-int(start_list[0]))+1 #inclusive\n",
    "    total=year+ month+day\n",
    "    return(total)\n",
    "start=input(\"Please enter a starting date in dd/mm/yy format:\") \n",
    "end=input(\"Please enter an ending date in dd/mm/yy format:\") \n",
    "print(day_count(start,end))"
   ]
  }
 ],
 "metadata": {
  "kernelspec": {
   "display_name": "Python 3",
   "language": "python",
   "name": "python3"
  },
  "language_info": {
   "codemirror_mode": {
    "name": "ipython",
    "version": 3
   },
   "file_extension": ".py",
   "mimetype": "text/x-python",
   "name": "python",
   "nbconvert_exporter": "python",
   "pygments_lexer": "ipython3",
   "version": "3.8.8"
  }
 },
 "nbformat": 4,
 "nbformat_minor": 5
}
